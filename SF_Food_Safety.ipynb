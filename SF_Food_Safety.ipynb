{
 "cells": [
  {
   "cell_type": "markdown",
   "metadata": {},
   "source": [
    "---"
   ]
  },
  {
   "cell_type": "markdown",
   "metadata": {
    "deletable": false,
    "editable": false,
    "nbgrader": {
     "cell_type": "markdown",
     "checksum": "af454282c740f12e32d5b6227fe39451",
     "grade": false,
     "grade_id": "intro-hw2",
     "locked": true,
     "schema_version": 2,
     "solution": false
    }
   },
   "source": [
    "# Homework 2: Food Safety \n",
    "\n",
    "## Course Policies\n",
    "\n",
    "Here are some important course policies. These are also located at\n",
    "http://www.ds100.org/sp18/.\n",
    "\n",
    "**Collaboration Policy**\n",
    "\n",
    "Data science is a collaborative activity. While you may talk with others about\n",
    "the homework, we ask that you **write your solutions individually**. If you do\n",
    "discuss the assignments with others please **include their names** at the top\n",
    "of your solution.\n",
    "\n",
    "\n",
    "## Due Date\n",
    "\n",
    "This assignment is due at 11:59pm Tuesday, February 6th. Instructions for submission are on the website."
   ]
  },
  {
   "cell_type": "markdown",
   "metadata": {
    "deletable": false,
    "editable": false,
    "nbgrader": {
     "cell_type": "markdown",
     "checksum": "462ff7bead13382bc297a00428bad6b6",
     "grade": false,
     "grade_id": "title",
     "locked": true,
     "schema_version": 2,
     "solution": false
    }
   },
   "source": [
    "# Homework 2: Food Safety \n",
    "## Cleaning and Exploring Data with Pandas\n",
    "\n",
    "<img src=\"scoreCard.jpg\" width=400>\n",
    "\n",
    "In this homework, you will investigate restaurant food safety scores for restaurants in San Francisco. Above is a sample score card for a restaurant. The scores and violation information have been made available by the San Francisco Department of Public Health, and we have made these data available to you via the DS 100 repository. The main goal for this assignment is to understand how restaurants are scored. We will walk through the various steps of exploratory data analysis to do this. To give you a sense of how we think about each discovery we make and what next steps it leads to we will provide comments and insights along the way.\n",
    "\n",
    "As we clean and explore these data, you will gain practice with:\n",
    "* Reading simple csv files\n",
    "* Working with data at different levels of granularity\n",
    "* Identifying the type of data collected, missing values, anomalies, etc.\n",
    "* Exploring characteristics and distributions of individual variables"
   ]
  },
  {
   "cell_type": "markdown",
   "metadata": {
    "deletable": false,
    "editable": false,
    "nbgrader": {
     "cell_type": "markdown",
     "checksum": "7f7f3d143ffae3a90a1f82e96d575f51",
     "grade": false,
     "grade_id": "q0",
     "locked": true,
     "schema_version": 2,
     "solution": false
    }
   },
   "source": [
    "### Question 0\n",
    "\n",
    "To start the assignment, run the cell below to set up some imports and the automatic tests that we will need for this assignment:\n",
    "\n",
    "In many of these assignments (and your future adventures as a data scientist) you will use os, zipfile, pandas, numpy, matplotlib.pyplot, and seaborn.  \n",
    "\n",
    "1. Import each of these libraries `as` their commonly used abbreviations (e.g., `pd`, `np`, `plt`, and `sns`).  \n",
    "1. Don't forget to use the jupyter notebook \"magic\" to enable [inline matploblib plots](http://ipython.readthedocs.io/en/stable/interactive/magics.html#magic-matplotlib). \n",
    "1. Add the line `sns.set()` to make your plots look nicer."
   ]
  },
  {
   "cell_type": "code",
   "execution_count": 5,
   "metadata": {
    "deletable": false,
    "nbgrader": {
     "cell_type": "code",
     "checksum": "01c917157eb7a119af8886049d726f94",
     "grade": false,
     "grade_id": "q0-answer",
     "locked": false,
     "schema_version": 2,
     "solution": true
    },
    "tags": [
     "solution"
    ]
   },
   "outputs": [],
   "source": [
    "import pandas as pd \n",
    "import numpy as np \n",
    "import matplotlib.pyplot as plt \n",
    "%matplotlib inline\n",
    "import zipfile \n",
    "import seaborn as sns\n",
    "sns.set()"
   ]
  },
  {
   "cell_type": "code",
   "execution_count": 6,
   "metadata": {
    "deletable": false,
    "editable": false,
    "nbgrader": {
     "cell_type": "code",
     "checksum": "6ad2fac725701c2d2d628451fa390871",
     "grade": true,
     "grade_id": "q0-test",
     "locked": true,
     "points": 1,
     "schema_version": 2,
     "solution": false
    }
   },
   "outputs": [],
   "source": [
    "import sys\n",
    "\n",
    "assert 'zipfile'in sys.modules\n",
    "assert 'pandas'in sys.modules and pd\n",
    "assert 'numpy'in sys.modules and np\n",
    "assert 'matplotlib'in sys.modules and plt\n",
    "assert 'seaborn'in sys.modules and sns"
   ]
  },
  {
   "cell_type": "markdown",
   "metadata": {
    "deletable": false,
    "editable": false,
    "nbgrader": {
     "cell_type": "markdown",
     "checksum": "d5cbd0b6165f7a08c17c990732af46cc",
     "grade": false,
     "grade_id": "download",
     "locked": true,
     "schema_version": 2,
     "solution": false
    }
   },
   "source": [
    "## Downloading the data\n",
    "\n",
    "As you saw in lectures, we can download data from the internet with Python.  \n",
    "Using the `utils.py` file from the lectures (see [link](http://www.ds100.org/sp18/assets/lectures/lec05/utils.py)), define a helper function `fetch_and_cache` to download the data with the following arguments:\n",
    "- data_url: the web address to download\n",
    "- file: the file in which to save the results\n",
    "- data_dir: (default=\"data\") the location to save the data\n",
    "- force: if true the file is always re-downloaded \n",
    "\n",
    "This function should return `pathlib.Path` object representing the file."
   ]
  },
  {
   "cell_type": "code",
   "execution_count": 7,
   "metadata": {
    "deletable": false,
    "nbgrader": {
     "cell_type": "code",
     "checksum": "0882418834f27c4f71bc146294655b6b",
     "grade": false,
     "grade_id": "download-answer",
     "locked": false,
     "schema_version": 2,
     "solution": true
    }
   },
   "outputs": [],
   "source": [
    "import requests\n",
    "from pathlib import Path\n",
    "\n",
    "def fetch_and_cache(data_url, file, data_dir=\"data\", force=False):\n",
    "    \"\"\"\n",
    "    Download and cache a url and return the file object.\n",
    "    \n",
    "    data_url: the web address to download\n",
    "    file: the file in which to save the results.\n",
    "    data_dir: (default=\"data\") the location to save the data\n",
    "    force: if true the file is always re-downloaded \n",
    "    \n",
    "    return: The pathlib.Path object representing the file.\n",
    "    \"\"\"\n",
    "    import requests\n",
    "    from pathlib import Path\n",
    "    data_dir = Path(data_dir)\n",
    "    data_dir.mkdir(exist_ok=True)\n",
    "    file_path = data_dir/Path(file)\n",
    "    if force and file_path.exists():\n",
    "        file_path.unlink()\n",
    "    if force or not file_path.exists():\n",
    "        print('Downloading...', end=' ')\n",
    "        resp = requests.get(data_url)\n",
    "        with file_path.open('wb') as f:\n",
    "            f.write(resp.content)\n",
    "        print('Done!')\n",
    "    else:\n",
    "        import time \n",
    "        birth_time = time.ctime(file_path.stat().st_ctime)\n",
    "        print(\"Using cached version downloaded:\", birth_time)\n",
    "    return file_path\n",
    "    "
   ]
  },
  {
   "cell_type": "markdown",
   "metadata": {
    "deletable": false,
    "editable": false,
    "nbgrader": {
     "cell_type": "markdown",
     "checksum": "c6119471a5c93302127b8d3d064eda99",
     "grade": false,
     "grade_id": "download-md",
     "locked": true,
     "schema_version": 2,
     "solution": false
    }
   },
   "source": [
    "Now use the previously defined function to download the data from the following URL: https://extxfer.sfdph.org/food/SFBusinesses.zip"
   ]
  },
  {
   "cell_type": "code",
   "execution_count": 8,
   "metadata": {},
   "outputs": [
    {
     "name": "stdout",
     "output_type": "stream",
     "text": [
      "Using cached version downloaded: Sat Feb  3 14:48:52 2018\n",
      "Saved at data.zip\n"
     ]
    }
   ],
   "source": [
    "data_url = 'http://www.ds100.org/sp18/assets/datasets/hw2-SFBusinesses.zip'\n",
    "file_name = 'data.zip'\n",
    "data_dir = '.'\n",
    "\n",
    "dest_path = fetch_and_cache(data_url=data_url, data_dir=data_dir, file=file_name)\n",
    "print('Saved at {}'.format(dest_path))"
   ]
  },
  {
   "cell_type": "markdown",
   "metadata": {
    "deletable": false,
    "editable": false,
    "nbgrader": {
     "cell_type": "markdown",
     "checksum": "98c7f68aeb0dc266e38afaf3a038d47c",
     "grade": false,
     "grade_id": "loading-description",
     "locked": true,
     "schema_version": 2,
     "solution": false
    }
   },
   "source": [
    "## Loading Food Safety Data\n",
    "\n",
    "To begin our investigation, we need to understand the structure of the data. Recall this involves answering questions such as \n",
    "\n",
    "* Is the data in a standard format or encoding?\n",
    "* Is the data organized in records?\n",
    "* What are the fields in each record?\n",
    "\n",
    "There are 4 files in the data directory.  Let's use Python to understand how this data is laid out.\n",
    "\n",
    "Use the `zipfile` library to list all the files stored in the `dest_path` directory.\n",
    "\n",
    "Creating a ZipFile object might be a good start (the [Python docs](https://docs.python.org/3/library/zipfile.html) have further details)."
   ]
  },
  {
   "cell_type": "code",
   "execution_count": 9,
   "metadata": {
    "deletable": false,
    "nbgrader": {
     "cell_type": "code",
     "checksum": "7946e5ed53b8cf5e6cb1e8904beadaca",
     "grade": false,
     "grade_id": "loading-answer",
     "locked": false,
     "schema_version": 2,
     "solution": true
    }
   },
   "outputs": [
    {
     "data": {
      "text/plain": [
       "['violations.csv', 'businesses.csv', 'inspections.csv', 'legend.csv']"
      ]
     },
     "execution_count": 9,
     "metadata": {},
     "output_type": "execute_result"
    }
   ],
   "source": [
    "# Fill in the list_files variable with a list of all the names of the files in the zip file\n",
    "my_zip = zipfile.ZipFile(dest_path, \"r\") \n",
    "list_names = my_zip.namelist()\n",
    "list_names"
   ]
  },
  {
   "cell_type": "code",
   "execution_count": 10,
   "metadata": {
    "deletable": false,
    "editable": false,
    "nbgrader": {
     "cell_type": "code",
     "checksum": "4fe42a214fc0e3e0e9d058374156454d",
     "grade": true,
     "grade_id": "loading-tests",
     "locked": true,
     "points": 1,
     "schema_version": 2,
     "solution": false
    }
   },
   "outputs": [],
   "source": [
    "assert isinstance(my_zip, zipfile.ZipFile)\n",
    "assert isinstance(list_names, list)\n",
    "assert all([isinstance(file, str) for file in list_names]) \n"
   ]
  },
  {
   "cell_type": "markdown",
   "metadata": {
    "deletable": false,
    "editable": false,
    "nbgrader": {
     "cell_type": "markdown",
     "checksum": "1846594c0fee8e661f3e2f83ba5d6bc9",
     "grade": false,
     "grade_id": "loading-size",
     "locked": true,
     "schema_version": 2,
     "solution": false
    }
   },
   "source": [
    "Now display the files' names and their sizes.\n",
    "\n",
    "You might want to check the attributes of a `ZipFile` object."
   ]
  },
  {
   "cell_type": "code",
   "execution_count": 11,
   "metadata": {
    "deletable": false,
    "nbgrader": {
     "cell_type": "code",
     "checksum": "90132df60c15b0d458f197ab10e57cb9",
     "grade": false,
     "grade_id": "loading-size-answer",
     "locked": false,
     "schema_version": 2,
     "solution": true
    }
   },
   "outputs": [
    {
     "name": "stdout",
     "output_type": "stream",
     "text": [
      "['violations.csv', 'businesses.csv', 'inspections.csv', 'legend.csv']\n",
      "[3726206, 660231, 466106, 120]\n"
     ]
    }
   ],
   "source": [
    "print([f.filename for f in my_zip.filelist])\n",
    "print([f.file_size for f in my_zip.filelist])"
   ]
  },
  {
   "cell_type": "markdown",
   "metadata": {
    "deletable": false,
    "editable": false,
    "nbgrader": {
     "cell_type": "markdown",
     "checksum": "19223b22dab12b5c10abfb536c9b79e5",
     "grade": false,
     "grade_id": "q1a",
     "locked": true,
     "schema_version": 2,
     "solution": false
    }
   },
   "source": [
    "### Question 1a\n",
    "\n",
    "From the above output we see that one of the files is relatively small.\n",
    "\n",
    "Still based on the [HTML notebook](http://www.ds100.org/sp18/assets/lectures/lec03/03-live-datatables-indexes-pandas.html) of Prof. Perez, display the 5 first lines of this file."
   ]
  },
  {
   "cell_type": "code",
   "execution_count": 12,
   "metadata": {
    "deletable": false,
    "nbgrader": {
     "cell_type": "code",
     "checksum": "1de871ac776ef1fb16dcef623976716d",
     "grade": false,
     "grade_id": "q1a-answer",
     "locked": false,
     "schema_version": 2,
     "solution": true
    }
   },
   "outputs": [],
   "source": [
    "data_dir = \"data\"\n",
    "file_to_open = 'legend.csv'"
   ]
  },
  {
   "cell_type": "code",
   "execution_count": 13,
   "metadata": {
    "deletable": false,
    "editable": false,
    "nbgrader": {
     "cell_type": "code",
     "checksum": "01adc60a473523da04dc966d50026ed9",
     "grade": true,
     "grade_id": "q1a-tests",
     "locked": true,
     "points": 1,
     "schema_version": 2,
     "solution": false
    }
   },
   "outputs": [],
   "source": [
    "assert isinstance(file_to_open, str)\n"
   ]
  },
  {
   "cell_type": "markdown",
   "metadata": {
    "deletable": false,
    "editable": false,
    "nbgrader": {
     "cell_type": "markdown",
     "checksum": "c92bc48fcf15337f4eb5bf134a552835",
     "grade": false,
     "grade_id": "q1a-head",
     "locked": true,
     "schema_version": 2,
     "solution": false
    }
   },
   "source": [
    "Let us define a function to perform this.\n",
    "\n",
    "Using the `utils.py` file from the lectures (see [link]()), define a `head` function to display the first lines of the content of a file."
   ]
  },
  {
   "cell_type": "code",
   "execution_count": 14,
   "metadata": {
    "deletable": false,
    "nbgrader": {
     "cell_type": "code",
     "checksum": "748a3ef89483026481a14ef4dc7fa6ff",
     "grade": false,
     "grade_id": "q1a-head-answer",
     "locked": false,
     "schema_version": 2,
     "solution": true
    },
    "tags": [
     "solution"
    ]
   },
   "outputs": [],
   "source": [
    " def head(filename, lines=5):\n",
    "    \"\"\"\n",
    "    Returns the first few lines of a file.\n",
    "    \n",
    "    filename: the name of the file to open\n",
    "    lines: the number of lines to include\n",
    "    \n",
    "    return: A list of the first few lines from the file.\n",
    "    \"\"\"\n",
    "    from itertools import islice \n",
    "    with open(filename, \"r\") as f:\n",
    "        return list(islice(f, lines))"
   ]
  },
  {
   "cell_type": "code",
   "execution_count": 15,
   "metadata": {},
   "outputs": [
    {
     "data": {
      "text/plain": [
       "['\"Minimum_Score\",\"Maximum_Score\",\"Description\"\\n',\n",
       " '0,70,\"Poor\"\\n',\n",
       " '71,85,\"Needs Improvement\"\\n',\n",
       " '86,90,\"Adequate\"\\n',\n",
       " '91,100,\"Good\"\\n']"
      ]
     },
     "execution_count": 15,
     "metadata": {},
     "output_type": "execute_result"
    }
   ],
   "source": [
    "file_to_open = 'legend.csv'\n",
    "head(data_dir/Path(file_to_open))"
   ]
  },
  {
   "cell_type": "markdown",
   "metadata": {
    "deletable": false,
    "editable": false,
    "nbgrader": {
     "cell_type": "markdown",
     "checksum": "8b020665b6cb274815f838c7bd18423a",
     "grade": false,
     "grade_id": "q1b",
     "locked": true,
     "schema_version": 2,
     "solution": false
    }
   },
   "source": [
    "### Question 1b\n",
    "\n",
    "Use the `head` function to verify that the remaining files are also CSV formatted as their file extension suggests.\n",
    "\n",
    "We will extract the content of the zip file to a `data` directory."
   ]
  },
  {
   "cell_type": "code",
   "execution_count": 16,
   "metadata": {
    "deletable": false,
    "nbgrader": {
     "cell_type": "code",
     "checksum": "120fc7e02e56f7d0eeec02d1d2460f66",
     "grade": false,
     "grade_id": "q1b-answer",
     "locked": false,
     "schema_version": 2,
     "solution": true
    }
   },
   "outputs": [
    {
     "name": "stdout",
     "output_type": "stream",
     "text": [
      "violations.csv\n",
      "['\"business_id\",\"date\",\"description\"\\n', '19,\"20171211\",\"Inadequate food safety knowledge or lack of certified food safety manager\"\\n', '19,\"20171211\",\"Unapproved or unmaintained equipment or utensils\"\\n', '19,\"20160513\",\"Unapproved or unmaintained equipment or utensils  [ date violation corrected: 12/11/2017 ]\"\\n', '19,\"20160513\",\"Unclean or degraded floors walls or ceilings  [ date violation corrected: 12/11/2017 ]\"\\n']\n",
      "businesses.csv\n",
      "['\"business_id\",\"name\",\"address\",\"city\",\"state\",\"postal_code\",\"latitude\",\"longitude\",\"phone_number\"\\n', '19,\"NRGIZE LIFESTYLE CAFE\",\"1200 VAN NESS AVE, 3RD FLOOR\",\"San Francisco\",\"CA\",\"94109\",\"37.786848\",\"-122.421547\",\"+14157763262\"\\n', '24,\"OMNI S.F. HOTEL - 2ND FLOOR PANTRY\",\"500 CALIFORNIA ST, 2ND  FLOOR\",\"San Francisco\",\"CA\",\"94104\",\"37.792888\",\"-122.403135\",\"+14156779494\"\\n', '31,\"NORMAN\\'S ICE CREAM AND FREEZES\",\"2801 LEAVENWORTH ST \",\"San Francisco\",\"CA\",\"94133\",\"37.807155\",\"-122.419004\",\"\"\\n', '45,\"CHARLIE\\'S DELI CAFE\",\"3202 FOLSOM ST \",\"San Francisco\",\"CA\",\"94110\",\"37.747114\",\"-122.413641\",\"+14156415051\"\\n']\n",
      "inspections.csv\n",
      "['\"business_id\",\"score\",\"date\",\"type\"\\n', '19,\"94\",\"20160513\",\"routine\"\\n', '19,\"94\",\"20171211\",\"routine\"\\n', '24,\"98\",\"20171101\",\"routine\"\\n', '24,\"98\",\"20161005\",\"routine\"\\n']\n",
      "legend.csv\n",
      "['\"Minimum_Score\",\"Maximum_Score\",\"Description\"\\n', '0,70,\"Poor\"\\n', '71,85,\"Needs Improvement\"\\n', '86,90,\"Adequate\"\\n', '91,100,\"Good\"\\n']\n"
     ]
    }
   ],
   "source": [
    "data_dir = Path('data')\n",
    "my_zip.extractall(data_dir)\n",
    "\n",
    "for name in [f.filename for f in my_zip.filelist]:\n",
    "    print(name)\n",
    "    print(head(data_dir/Path(name)))"
   ]
  },
  {
   "cell_type": "markdown",
   "metadata": {
    "deletable": false,
    "editable": false,
    "nbgrader": {
     "cell_type": "markdown",
     "checksum": "34d9b951e95f4ff654d4b6379c4b2fb6",
     "grade": false,
     "grade_id": "boolean-checks",
     "locked": true,
     "schema_version": 2,
     "solution": false
    }
   },
   "source": [
    "Answer the following boolean expressions using `True` or `False`."
   ]
  },
  {
   "cell_type": "code",
   "execution_count": 17,
   "metadata": {
    "deletable": false,
    "nbgrader": {
     "cell_type": "code",
     "checksum": "0841817a5e660fb9b106e8129f19cde0",
     "grade": false,
     "grade_id": "boolean-checks-answers",
     "locked": false,
     "schema_version": 2,
     "solution": true
    },
    "tags": [
     "student"
    ]
   },
   "outputs": [],
   "source": [
    "# Are all the files CSV files?\n",
    "all_files_appear_to_be_csv = True\n",
    "\n",
    "# Do all the files have a header line?\n",
    "all_files_contain_headers = False\n",
    "\n",
    "# Do all the strings in the file have quotes around them?\n",
    "strings_appear_quoted = True\n",
    "\n"
   ]
  },
  {
   "cell_type": "markdown",
   "metadata": {
    "deletable": false,
    "editable": false,
    "nbgrader": {
     "cell_type": "markdown",
     "checksum": "5ecf9c6cde21aa8fb2009c369ca110a5",
     "grade": false,
     "grade_id": "do-not-edit-1",
     "locked": true,
     "schema_version": 2,
     "solution": false
    }
   },
   "source": [
    "Do not edit the empty cell below."
   ]
  },
  {
   "cell_type": "code",
   "execution_count": null,
   "metadata": {
    "deletable": false,
    "editable": false,
    "nbgrader": {
     "cell_type": "code",
     "checksum": "1730950dfc4b6dd268b79edff24cc88a",
     "grade": true,
     "grade_id": "boolean-checks-tests",
     "locked": true,
     "points": 1,
     "schema_version": 2,
     "solution": false
    },
    "tags": [
     "solution"
    ]
   },
   "outputs": [],
   "source": []
  },
  {
   "cell_type": "markdown",
   "metadata": {
    "deletable": false,
    "editable": false,
    "nbgrader": {
     "cell_type": "markdown",
     "checksum": "862e5c600e87760b1f6cc77305458403",
     "grade": false,
     "grade_id": "q1c",
     "locked": true,
     "schema_version": 2,
     "solution": false
    }
   },
   "source": [
    "### Question 1c\n",
    "\n",
    "Based on the above information let's attempt to load the `businesses.csv`, `inspections.csv`, and the `violations.csv` into pandas data frames with the following names `bus`, `ins`, and `vio`.\n",
    "\n",
    "*Note:* Because of character encoding issues one of the files will require an additional argument `encoding='ISO-8859-1'` when calling `pd.read_csv`. "
   ]
  },
  {
   "cell_type": "code",
   "execution_count": 18,
   "metadata": {
    "deletable": false,
    "nbgrader": {
     "cell_type": "code",
     "checksum": "c17228bfe73f1531cf6f13c08a30f4ae",
     "grade": false,
     "grade_id": "q1c-answer",
     "locked": false,
     "schema_version": 2,
     "solution": true
    },
    "tags": [
     "solution"
    ]
   },
   "outputs": [],
   "source": [
    "# path to directory containing data\n",
    "dsDir = Path('data')\n",
    "\n",
    "# Make sure to use these names\n",
    "bus = pd.read_csv('~/desktop/DS100/hw2/data/businesses.csv',encoding='ISO-8859-1')\n",
    "ins = pd.read_csv('~/desktop/DS100/hw2/data/inspections.csv',encoding='ISO-8859-1')\n",
    "vio = pd.read_csv('~/desktop/DS100/hw2/data/violations.csv',encoding='ISO-8859-1')"
   ]
  },
  {
   "cell_type": "markdown",
   "metadata": {},
   "source": [
    "Now, we perform some sanity checks for you to verify that you loaded the data with the right structure. First, run the following cells to load some basic utilities (you do not need to change these at all):"
   ]
  },
  {
   "cell_type": "code",
   "execution_count": null,
   "metadata": {
    "deletable": false,
    "editable": false,
    "nbgrader": {
     "cell_type": "code",
     "checksum": "14ffb946ed60bbecd3f87c2b1a5af362",
     "grade": true,
     "grade_id": "cell-utils",
     "locked": true,
     "points": 0,
     "schema_version": 2,
     "solution": false
    }
   },
   "outputs": [],
   "source": []
  },
  {
   "cell_type": "code",
   "execution_count": 19,
   "metadata": {
    "deletable": false,
    "editable": false,
    "nbgrader": {
     "cell_type": "code",
     "checksum": "5873c10fff6f94ad6c5878ac7cc302f8",
     "grade": false,
     "grade_id": "cell-dfcompare",
     "locked": true,
     "schema_version": 2,
     "solution": false
    }
   },
   "outputs": [],
   "source": [
    "\"\"\"Run this cell to load this utility comparison function that we will use in various\n",
    "tests below (both tests you can see and those we run internally for grading).\n",
    "\n",
    "Do not modify the function in any way.\n",
    "\"\"\"\n",
    "\n",
    "def df_allclose(actual, desired, columns=None, rtol=5e-2):\n",
    "    \"\"\"Compare selected columns of two dataframes on a few summary statistics.\n",
    "    \n",
    "    Compute the min, median and max of the two dataframes on the given columns, and compare\n",
    "    that they match numerically to the given relative tolerance.\n",
    "    \n",
    "    If they don't match, an AssertionError is raised (by `numpy.testing`).\n",
    "    \"\"\"\n",
    "    import numpy.testing as npt\n",
    "    \n",
    "    # summary statistics to compare on\n",
    "    stats = ['min', '50%', 'max']\n",
    "    \n",
    "    # For the desired values, we can provide a full DF with the same structure as\n",
    "    # the actual data, or pre-computed summary statistics.\n",
    "    # We assume a pre-computed summary was provided if columns is None. In that case, \n",
    "    # `desired` *must* have the same structure as the actual's summary\n",
    "    if columns is None:\n",
    "        des = desired\n",
    "        columns = desired.columns\n",
    "    else:\n",
    "        des = desired[columns].describe().loc[stats]\n",
    "\n",
    "    # Extract summary stats from actual DF\n",
    "    act = actual[columns].describe().loc[stats]\n",
    "\n",
    "    npt.assert_allclose(act, des, rtol)"
   ]
  },
  {
   "cell_type": "markdown",
   "metadata": {},
   "source": [
    "First, we check the basic structure of the data frames you got:"
   ]
  },
  {
   "cell_type": "code",
   "execution_count": 20,
   "metadata": {
    "deletable": false,
    "editable": false,
    "nbgrader": {
     "cell_type": "code",
     "checksum": "73fb177be618d571b971c85d173853f3",
     "grade": true,
     "grade_id": "q1c-test0",
     "locked": true,
     "points": 1,
     "schema_version": 2,
     "solution": false
    }
   },
   "outputs": [],
   "source": [
    "assert all(bus.columns == ['business_id', 'name', 'address', 'city', 'state', 'postal_code',\n",
    "                           'latitude', 'longitude', 'phone_number'])\n",
    "assert 6400 <= len(bus) <= 6420\n",
    "\n",
    "assert all(ins.columns == ['business_id', 'score', 'date', 'type'])\n",
    "assert 14210 <= len(ins) <= 14250\n",
    "\n",
    "assert all(vio.columns == ['business_id', 'date', 'description'])\n",
    "assert 39020 <= len(vio) <= 39080"
   ]
  },
  {
   "cell_type": "markdown",
   "metadata": {},
   "source": [
    "Numerical tests: the following are hand-computed statistical summaries of the correct data. Your own data variables `bus`, `ins` and `vio` should provide similar results with the `describe()` method. Let's look at these once so you can compare. Once you have it all working, you can run the tests in the next cell to verify it numerically."
   ]
  },
  {
   "cell_type": "code",
   "execution_count": 21,
   "metadata": {
    "deletable": false,
    "editable": false,
    "nbgrader": {
     "cell_type": "code",
     "checksum": "a1302c4ccedc714ed9f89a40ad128fde",
     "grade": false,
     "grade_id": "cell-dfsumms",
     "locked": true,
     "schema_version": 2,
     "solution": false
    }
   },
   "outputs": [
    {
     "name": "stdout",
     "output_type": "stream",
     "text": [
      "Businesses:\n"
     ]
    },
    {
     "data": {
      "text/html": [
       "<div>\n",
       "<style scoped>\n",
       "    .dataframe tbody tr th:only-of-type {\n",
       "        vertical-align: middle;\n",
       "    }\n",
       "\n",
       "    .dataframe tbody tr th {\n",
       "        vertical-align: top;\n",
       "    }\n",
       "\n",
       "    .dataframe thead th {\n",
       "        text-align: right;\n",
       "    }\n",
       "</style>\n",
       "<table border=\"1\" class=\"dataframe\">\n",
       "  <thead>\n",
       "    <tr style=\"text-align: right;\">\n",
       "      <th></th>\n",
       "      <th>business_id</th>\n",
       "      <th>latitude</th>\n",
       "      <th>longitude</th>\n",
       "    </tr>\n",
       "  </thead>\n",
       "  <tbody>\n",
       "    <tr>\n",
       "      <th>min</th>\n",
       "      <td>19.0</td>\n",
       "      <td>37.668824</td>\n",
       "      <td>-122.510896</td>\n",
       "    </tr>\n",
       "    <tr>\n",
       "      <th>50%</th>\n",
       "      <td>68294.5</td>\n",
       "      <td>37.780435</td>\n",
       "      <td>-122.418855</td>\n",
       "    </tr>\n",
       "    <tr>\n",
       "      <th>max</th>\n",
       "      <td>94574.0</td>\n",
       "      <td>37.824494</td>\n",
       "      <td>-122.368257</td>\n",
       "    </tr>\n",
       "  </tbody>\n",
       "</table>\n",
       "</div>"
      ],
      "text/plain": [
       "     business_id   latitude   longitude\n",
       "min         19.0  37.668824 -122.510896\n",
       "50%      68294.5  37.780435 -122.418855\n",
       "max      94574.0  37.824494 -122.368257"
      ]
     },
     "metadata": {},
     "output_type": "display_data"
    },
    {
     "name": "stdout",
     "output_type": "stream",
     "text": [
      "Inspections:\n"
     ]
    },
    {
     "data": {
      "text/html": [
       "<div>\n",
       "<style scoped>\n",
       "    .dataframe tbody tr th:only-of-type {\n",
       "        vertical-align: middle;\n",
       "    }\n",
       "\n",
       "    .dataframe tbody tr th {\n",
       "        vertical-align: top;\n",
       "    }\n",
       "\n",
       "    .dataframe thead th {\n",
       "        text-align: right;\n",
       "    }\n",
       "</style>\n",
       "<table border=\"1\" class=\"dataframe\">\n",
       "  <thead>\n",
       "    <tr style=\"text-align: right;\">\n",
       "      <th></th>\n",
       "      <th>business_id</th>\n",
       "      <th>score</th>\n",
       "    </tr>\n",
       "  </thead>\n",
       "  <tbody>\n",
       "    <tr>\n",
       "      <th>min</th>\n",
       "      <td>19.0</td>\n",
       "      <td>48.0</td>\n",
       "    </tr>\n",
       "    <tr>\n",
       "      <th>50%</th>\n",
       "      <td>61462.0</td>\n",
       "      <td>92.0</td>\n",
       "    </tr>\n",
       "    <tr>\n",
       "      <th>max</th>\n",
       "      <td>94231.0</td>\n",
       "      <td>100.0</td>\n",
       "    </tr>\n",
       "  </tbody>\n",
       "</table>\n",
       "</div>"
      ],
      "text/plain": [
       "     business_id  score\n",
       "min         19.0   48.0\n",
       "50%      61462.0   92.0\n",
       "max      94231.0  100.0"
      ]
     },
     "metadata": {},
     "output_type": "display_data"
    },
    {
     "name": "stdout",
     "output_type": "stream",
     "text": [
      "Violations:\n"
     ]
    },
    {
     "data": {
      "text/html": [
       "<div>\n",
       "<style scoped>\n",
       "    .dataframe tbody tr th:only-of-type {\n",
       "        vertical-align: middle;\n",
       "    }\n",
       "\n",
       "    .dataframe tbody tr th {\n",
       "        vertical-align: top;\n",
       "    }\n",
       "\n",
       "    .dataframe thead th {\n",
       "        text-align: right;\n",
       "    }\n",
       "</style>\n",
       "<table border=\"1\" class=\"dataframe\">\n",
       "  <thead>\n",
       "    <tr style=\"text-align: right;\">\n",
       "      <th></th>\n",
       "      <th>business_id</th>\n",
       "    </tr>\n",
       "  </thead>\n",
       "  <tbody>\n",
       "    <tr>\n",
       "      <th>min</th>\n",
       "      <td>19.0</td>\n",
       "    </tr>\n",
       "    <tr>\n",
       "      <th>50%</th>\n",
       "      <td>62060.0</td>\n",
       "    </tr>\n",
       "    <tr>\n",
       "      <th>max</th>\n",
       "      <td>94231.0</td>\n",
       "    </tr>\n",
       "  </tbody>\n",
       "</table>\n",
       "</div>"
      ],
      "text/plain": [
       "     business_id\n",
       "min         19.0\n",
       "50%      62060.0\n",
       "max      94231.0"
      ]
     },
     "metadata": {},
     "output_type": "display_data"
    }
   ],
   "source": [
    "bus_summary = pd.DataFrame(**{'columns': ['business_id', 'latitude', 'longitude'],\n",
    " 'data': {'business_id': {'50%': 68294.5, 'max': 94574.0, 'min': 19.0},\n",
    "  'latitude': {'50%': 37.780435, 'max': 37.824494, 'min': 37.668824},\n",
    "  'longitude': {'50%': -122.41885450000001,\n",
    "   'max': -122.368257,\n",
    "   'min': -122.510896}},\n",
    " 'index': ['min', '50%', 'max']})\n",
    "\n",
    "ins_summary = pd.DataFrame(**{'columns': ['business_id', 'score'],\n",
    " 'data': {'business_id': {'50%': 61462.0, 'max': 94231.0, 'min': 19.0},\n",
    "  'score': {'50%': 92.0, 'max': 100.0, 'min': 48.0}},\n",
    " 'index': ['min', '50%', 'max']})\n",
    "\n",
    "vio_summary = pd.DataFrame(**{'columns': ['business_id'],\n",
    " 'data': {'business_id': {'50%': 62060.0, 'max': 94231.0, 'min': 19.0}},\n",
    " 'index': ['min', '50%', 'max']})\n",
    "\n",
    "from IPython.display import display\n",
    "\n",
    "print('Businesses:')\n",
    "display(bus_summary)\n",
    "print('Inspections:')\n",
    "display(ins_summary)\n",
    "print('Violations:')\n",
    "display(vio_summary)"
   ]
  },
  {
   "cell_type": "markdown",
   "metadata": {},
   "source": [
    "Numerical tests: the following cell provides summary values that you should be able to match for the three main datasets. We will conduct other tests internally, but you should have loaded your data in a way that matches these few summary statistics."
   ]
  },
  {
   "cell_type": "code",
   "execution_count": 22,
   "metadata": {
    "deletable": false,
    "editable": false,
    "nbgrader": {
     "cell_type": "code",
     "checksum": "6976141f0859c748ea6e37157c61327b",
     "grade": true,
     "grade_id": "cell-89cc64b12d94e834",
     "locked": true,
     "points": 0,
     "schema_version": 2,
     "solution": false
    }
   },
   "outputs": [],
   "source": [
    "# These tests will raise an exception if your variables don't match numerically the correct\n",
    "# answers in the main summary statistics shown above.\n",
    "df_allclose(bus, bus_summary)\n",
    "df_allclose(ins, ins_summary)\n",
    "df_allclose(vio, vio_summary)"
   ]
  },
  {
   "cell_type": "markdown",
   "metadata": {
    "deletable": false,
    "editable": false,
    "nbgrader": {
     "cell_type": "markdown",
     "checksum": "e07d6e6f0516e514dd524104fc6514ec",
     "grade": false,
     "grade_id": "do-not-edit-2",
     "locked": true,
     "schema_version": 2,
     "solution": false
    }
   },
   "source": [
    "Do not edit the empty cell below."
   ]
  },
  {
   "cell_type": "code",
   "execution_count": null,
   "metadata": {
    "deletable": false,
    "editable": false,
    "nbgrader": {
     "cell_type": "code",
     "checksum": "b6f700f0358f6359e770656f3a611852",
     "grade": true,
     "grade_id": "q1c-test",
     "locked": true,
     "points": 1,
     "schema_version": 2,
     "solution": false
    }
   },
   "outputs": [],
   "source": []
  },
  {
   "cell_type": "markdown",
   "metadata": {
    "deletable": false,
    "editable": false,
    "nbgrader": {
     "cell_type": "markdown",
     "checksum": "98c52b0ab520ae853657aa1a1d173227",
     "grade": false,
     "grade_id": "demo-df",
     "locked": true,
     "schema_version": 2,
     "solution": false
    }
   },
   "source": [
    "Run the following cells in order to view a portion of each dataframe."
   ]
  },
  {
   "cell_type": "code",
   "execution_count": 23,
   "metadata": {
    "deletable": false,
    "editable": false,
    "nbgrader": {
     "cell_type": "code",
     "checksum": "59835f96f3d63121d9fa40ae8936503d",
     "grade": false,
     "grade_id": "demo-df-1",
     "locked": true,
     "schema_version": 2,
     "solution": false
    }
   },
   "outputs": [
    {
     "data": {
      "text/html": [
       "<div>\n",
       "<style scoped>\n",
       "    .dataframe tbody tr th:only-of-type {\n",
       "        vertical-align: middle;\n",
       "    }\n",
       "\n",
       "    .dataframe tbody tr th {\n",
       "        vertical-align: top;\n",
       "    }\n",
       "\n",
       "    .dataframe thead th {\n",
       "        text-align: right;\n",
       "    }\n",
       "</style>\n",
       "<table border=\"1\" class=\"dataframe\">\n",
       "  <thead>\n",
       "    <tr style=\"text-align: right;\">\n",
       "      <th></th>\n",
       "      <th>business_id</th>\n",
       "      <th>name</th>\n",
       "      <th>address</th>\n",
       "      <th>city</th>\n",
       "      <th>state</th>\n",
       "      <th>postal_code</th>\n",
       "      <th>latitude</th>\n",
       "      <th>longitude</th>\n",
       "      <th>phone_number</th>\n",
       "    </tr>\n",
       "  </thead>\n",
       "  <tbody>\n",
       "    <tr>\n",
       "      <th>0</th>\n",
       "      <td>19</td>\n",
       "      <td>NRGIZE LIFESTYLE CAFE</td>\n",
       "      <td>1200 VAN NESS AVE, 3RD FLOOR</td>\n",
       "      <td>San Francisco</td>\n",
       "      <td>CA</td>\n",
       "      <td>94109</td>\n",
       "      <td>37.786848</td>\n",
       "      <td>-122.421547</td>\n",
       "      <td>+14157763262</td>\n",
       "    </tr>\n",
       "    <tr>\n",
       "      <th>1</th>\n",
       "      <td>24</td>\n",
       "      <td>OMNI S.F. HOTEL - 2ND FLOOR PANTRY</td>\n",
       "      <td>500 CALIFORNIA ST, 2ND  FLOOR</td>\n",
       "      <td>San Francisco</td>\n",
       "      <td>CA</td>\n",
       "      <td>94104</td>\n",
       "      <td>37.792888</td>\n",
       "      <td>-122.403135</td>\n",
       "      <td>+14156779494</td>\n",
       "    </tr>\n",
       "    <tr>\n",
       "      <th>2</th>\n",
       "      <td>31</td>\n",
       "      <td>NORMAN'S ICE CREAM AND FREEZES</td>\n",
       "      <td>2801 LEAVENWORTH ST</td>\n",
       "      <td>San Francisco</td>\n",
       "      <td>CA</td>\n",
       "      <td>94133</td>\n",
       "      <td>37.807155</td>\n",
       "      <td>-122.419004</td>\n",
       "      <td>NaN</td>\n",
       "    </tr>\n",
       "    <tr>\n",
       "      <th>3</th>\n",
       "      <td>45</td>\n",
       "      <td>CHARLIE'S DELI CAFE</td>\n",
       "      <td>3202 FOLSOM ST</td>\n",
       "      <td>San Francisco</td>\n",
       "      <td>CA</td>\n",
       "      <td>94110</td>\n",
       "      <td>37.747114</td>\n",
       "      <td>-122.413641</td>\n",
       "      <td>+14156415051</td>\n",
       "    </tr>\n",
       "    <tr>\n",
       "      <th>4</th>\n",
       "      <td>48</td>\n",
       "      <td>ART'S CAFE</td>\n",
       "      <td>747 IRVING ST</td>\n",
       "      <td>San Francisco</td>\n",
       "      <td>CA</td>\n",
       "      <td>94122</td>\n",
       "      <td>37.764013</td>\n",
       "      <td>-122.465749</td>\n",
       "      <td>+14156657440</td>\n",
       "    </tr>\n",
       "  </tbody>\n",
       "</table>\n",
       "</div>"
      ],
      "text/plain": [
       "   business_id                                name  \\\n",
       "0           19               NRGIZE LIFESTYLE CAFE   \n",
       "1           24  OMNI S.F. HOTEL - 2ND FLOOR PANTRY   \n",
       "2           31      NORMAN'S ICE CREAM AND FREEZES   \n",
       "3           45                 CHARLIE'S DELI CAFE   \n",
       "4           48                          ART'S CAFE   \n",
       "\n",
       "                         address           city state postal_code   latitude  \\\n",
       "0   1200 VAN NESS AVE, 3RD FLOOR  San Francisco    CA       94109  37.786848   \n",
       "1  500 CALIFORNIA ST, 2ND  FLOOR  San Francisco    CA       94104  37.792888   \n",
       "2           2801 LEAVENWORTH ST   San Francisco    CA       94133  37.807155   \n",
       "3                3202 FOLSOM ST   San Francisco    CA       94110  37.747114   \n",
       "4                 747 IRVING ST   San Francisco    CA       94122  37.764013   \n",
       "\n",
       "    longitude  phone_number  \n",
       "0 -122.421547  +14157763262  \n",
       "1 -122.403135  +14156779494  \n",
       "2 -122.419004           NaN  \n",
       "3 -122.413641  +14156415051  \n",
       "4 -122.465749  +14156657440  "
      ]
     },
     "execution_count": 23,
     "metadata": {},
     "output_type": "execute_result"
    }
   ],
   "source": [
    "bus.head(5)"
   ]
  },
  {
   "cell_type": "code",
   "execution_count": 24,
   "metadata": {
    "deletable": false,
    "editable": false,
    "nbgrader": {
     "cell_type": "code",
     "checksum": "69b08e46ae87c0a18e21aab0d0da772f",
     "grade": false,
     "grade_id": "demo-df-2",
     "locked": true,
     "schema_version": 2,
     "solution": false
    }
   },
   "outputs": [
    {
     "data": {
      "text/html": [
       "<div>\n",
       "<style scoped>\n",
       "    .dataframe tbody tr th:only-of-type {\n",
       "        vertical-align: middle;\n",
       "    }\n",
       "\n",
       "    .dataframe tbody tr th {\n",
       "        vertical-align: top;\n",
       "    }\n",
       "\n",
       "    .dataframe thead th {\n",
       "        text-align: right;\n",
       "    }\n",
       "</style>\n",
       "<table border=\"1\" class=\"dataframe\">\n",
       "  <thead>\n",
       "    <tr style=\"text-align: right;\">\n",
       "      <th></th>\n",
       "      <th>business_id</th>\n",
       "      <th>score</th>\n",
       "      <th>date</th>\n",
       "      <th>type</th>\n",
       "    </tr>\n",
       "  </thead>\n",
       "  <tbody>\n",
       "    <tr>\n",
       "      <th>0</th>\n",
       "      <td>19</td>\n",
       "      <td>94</td>\n",
       "      <td>20160513</td>\n",
       "      <td>routine</td>\n",
       "    </tr>\n",
       "    <tr>\n",
       "      <th>1</th>\n",
       "      <td>19</td>\n",
       "      <td>94</td>\n",
       "      <td>20171211</td>\n",
       "      <td>routine</td>\n",
       "    </tr>\n",
       "    <tr>\n",
       "      <th>2</th>\n",
       "      <td>24</td>\n",
       "      <td>98</td>\n",
       "      <td>20171101</td>\n",
       "      <td>routine</td>\n",
       "    </tr>\n",
       "    <tr>\n",
       "      <th>3</th>\n",
       "      <td>24</td>\n",
       "      <td>98</td>\n",
       "      <td>20161005</td>\n",
       "      <td>routine</td>\n",
       "    </tr>\n",
       "    <tr>\n",
       "      <th>4</th>\n",
       "      <td>24</td>\n",
       "      <td>96</td>\n",
       "      <td>20160311</td>\n",
       "      <td>routine</td>\n",
       "    </tr>\n",
       "  </tbody>\n",
       "</table>\n",
       "</div>"
      ],
      "text/plain": [
       "   business_id  score      date     type\n",
       "0           19     94  20160513  routine\n",
       "1           19     94  20171211  routine\n",
       "2           24     98  20171101  routine\n",
       "3           24     98  20161005  routine\n",
       "4           24     96  20160311  routine"
      ]
     },
     "execution_count": 24,
     "metadata": {},
     "output_type": "execute_result"
    }
   ],
   "source": [
    "ins.head(5)"
   ]
  },
  {
   "cell_type": "code",
   "execution_count": 25,
   "metadata": {
    "deletable": false,
    "editable": false,
    "nbgrader": {
     "cell_type": "code",
     "checksum": "408042d097db021de2ddcb8f54a98e51",
     "grade": false,
     "grade_id": "demo-df-3",
     "locked": true,
     "schema_version": 2,
     "solution": false
    }
   },
   "outputs": [
    {
     "data": {
      "text/html": [
       "<div>\n",
       "<style scoped>\n",
       "    .dataframe tbody tr th:only-of-type {\n",
       "        vertical-align: middle;\n",
       "    }\n",
       "\n",
       "    .dataframe tbody tr th {\n",
       "        vertical-align: top;\n",
       "    }\n",
       "\n",
       "    .dataframe thead th {\n",
       "        text-align: right;\n",
       "    }\n",
       "</style>\n",
       "<table border=\"1\" class=\"dataframe\">\n",
       "  <thead>\n",
       "    <tr style=\"text-align: right;\">\n",
       "      <th></th>\n",
       "      <th>business_id</th>\n",
       "      <th>date</th>\n",
       "      <th>description</th>\n",
       "    </tr>\n",
       "  </thead>\n",
       "  <tbody>\n",
       "    <tr>\n",
       "      <th>0</th>\n",
       "      <td>19</td>\n",
       "      <td>20171211</td>\n",
       "      <td>Inadequate food safety knowledge or lack of ce...</td>\n",
       "    </tr>\n",
       "    <tr>\n",
       "      <th>1</th>\n",
       "      <td>19</td>\n",
       "      <td>20171211</td>\n",
       "      <td>Unapproved or unmaintained equipment or utensils</td>\n",
       "    </tr>\n",
       "    <tr>\n",
       "      <th>2</th>\n",
       "      <td>19</td>\n",
       "      <td>20160513</td>\n",
       "      <td>Unapproved or unmaintained equipment or utensi...</td>\n",
       "    </tr>\n",
       "    <tr>\n",
       "      <th>3</th>\n",
       "      <td>19</td>\n",
       "      <td>20160513</td>\n",
       "      <td>Unclean or degraded floors walls or ceilings  ...</td>\n",
       "    </tr>\n",
       "    <tr>\n",
       "      <th>4</th>\n",
       "      <td>19</td>\n",
       "      <td>20160513</td>\n",
       "      <td>Food safety certificate or food handler card n...</td>\n",
       "    </tr>\n",
       "  </tbody>\n",
       "</table>\n",
       "</div>"
      ],
      "text/plain": [
       "   business_id      date                                        description\n",
       "0           19  20171211  Inadequate food safety knowledge or lack of ce...\n",
       "1           19  20171211   Unapproved or unmaintained equipment or utensils\n",
       "2           19  20160513  Unapproved or unmaintained equipment or utensi...\n",
       "3           19  20160513  Unclean or degraded floors walls or ceilings  ...\n",
       "4           19  20160513  Food safety certificate or food handler card n..."
      ]
     },
     "execution_count": 25,
     "metadata": {},
     "output_type": "execute_result"
    }
   ],
   "source": [
    "vio.head(5)"
   ]
  },
  {
   "cell_type": "markdown",
   "metadata": {
    "deletable": false,
    "editable": false,
    "nbgrader": {
     "cell_type": "markdown",
     "checksum": "ca91c9e6f4dab30bc31d9a0337817517",
     "grade": false,
     "grade_id": "q1d",
     "locked": true,
     "schema_version": 2,
     "solution": false
    }
   },
   "source": [
    "### Question 1d\n",
    "\n",
    "In the following describe at least one potential problem with the above data. Consider issues with missing values and bad data.  "
   ]
  },
  {
   "cell_type": "code",
   "execution_count": 26,
   "metadata": {
    "deletable": false,
    "nbgrader": {
     "cell_type": "code",
     "checksum": "56cbf8398f7b4ba23a23db55f0b5a9cd",
     "grade": true,
     "grade_id": "q1d-answer",
     "locked": false,
     "points": 1,
     "schema_version": 2,
     "solution": true
    },
    "tags": [
     "student",
     "written"
    ]
   },
   "outputs": [
    {
     "name": "stdout",
     "output_type": "stream",
     "text": [
      "\n",
      "\n",
      "The business csv has missing values(N/A) in the 'phone number' section; \n",
      "The violation csv has duplicated records for business id - 24 on 2016/03/11\n",
      "\n"
     ]
    }
   ],
   "source": [
    "q1d_answer = r\"\"\"\n",
    "\n",
    "The business csv has missing values(N/A) in the 'phone number' section; \n",
    "The violation csv has duplicated records for business id - 24 on 2016/03/11\n",
    "\"\"\"\n",
    "\n",
    "print(q1d_answer)"
   ]
  },
  {
   "cell_type": "markdown",
   "metadata": {
    "deletable": false,
    "editable": false,
    "nbgrader": {
     "cell_type": "markdown",
     "checksum": "a1096133fa27f5abcb87857f00e143f2",
     "grade": false,
     "grade_id": "intro-explo",
     "locked": true,
     "schema_version": 2,
     "solution": false
    }
   },
   "source": [
    "We will explore each file in turn, including determining its granularity and primary keys and exploring many of the variables indivdually. Let's begin with the businesses file, which has been read into the data.frame `bus`."
   ]
  },
  {
   "cell_type": "markdown",
   "metadata": {
    "deletable": false,
    "editable": false,
    "nbgrader": {
     "cell_type": "markdown",
     "checksum": "52b502f3738ee370dd81be65efcd529e",
     "grade": false,
     "grade_id": "business-data",
     "locked": true,
     "schema_version": 2,
     "solution": false
    }
   },
   "source": [
    "## Examining the Business data\n",
    "\n",
    "From its name alone, we expect the `businesses.csv` file to contain information about the restaurants. Let's investigate the granularity of this dataset.\n",
    "\n",
    "**Important note: From now on, the local autograder tests will not be comprehensive. You can pass the automated tests in your notebook but still fail tests in the autograder.** Please be sure to check your results carefully."
   ]
  },
  {
   "cell_type": "markdown",
   "metadata": {
    "deletable": false,
    "editable": false,
    "nbgrader": {
     "cell_type": "markdown",
     "checksum": "62c7fde4fc0d0ac34565dfce6b9186e8",
     "grade": false,
     "grade_id": "q2a",
     "locked": true,
     "schema_version": 2,
     "solution": false
    }
   },
   "source": [
    "### Question 2\n",
    "\n",
    "#### Question 2a\n",
    "\n",
    "Examining the entries in in the `businesses.csv` table `bus` is the `business_id` unique for each record?\n",
    "\n",
    "`... # use value_counts() or unique() to determine if the business_id field is unique`"
   ]
  },
  {
   "cell_type": "code",
   "execution_count": 27,
   "metadata": {},
   "outputs": [
    {
     "data": {
      "text/plain": [
       "6406"
      ]
     },
     "execution_count": 27,
     "metadata": {},
     "output_type": "execute_result"
    }
   ],
   "source": [
    "len(bus['business_id'])"
   ]
  },
  {
   "cell_type": "code",
   "execution_count": 28,
   "metadata": {
    "deletable": false,
    "nbgrader": {
     "cell_type": "code",
     "checksum": "e28121fd5646debafa1ecc3b64a296a2",
     "grade": false,
     "grade_id": "q2a-answer",
     "locked": false,
     "schema_version": 2,
     "solution": true
    },
    "tags": [
     "solution"
    ]
   },
   "outputs": [
    {
     "data": {
      "text/plain": [
       "True"
      ]
     },
     "execution_count": 28,
     "metadata": {},
     "output_type": "execute_result"
    }
   ],
   "source": [
    "is_business_id_unique = len(bus['business_id'].unique())\n",
    "is_business_id_unique == len(bus['business_id'])"
   ]
  },
  {
   "cell_type": "code",
   "execution_count": 29,
   "metadata": {
    "deletable": false,
    "editable": false,
    "nbgrader": {
     "cell_type": "code",
     "checksum": "d5f31fe7a570b526aa58278d3accc9e5",
     "grade": true,
     "grade_id": "q2a-tests",
     "locked": true,
     "points": 1,
     "schema_version": 2,
     "solution": false
    }
   },
   "outputs": [],
   "source": [
    "assert is_business_id_unique"
   ]
  },
  {
   "cell_type": "markdown",
   "metadata": {
    "deletable": false,
    "editable": false,
    "nbgrader": {
     "cell_type": "markdown",
     "checksum": "20c599c4b67d1932e9530e6fe688cec7",
     "grade": false,
     "grade_id": "q2b",
     "locked": true,
     "schema_version": 2,
     "solution": false
    },
    "tags": [
     "written"
    ]
   },
   "source": [
    "#### Question 2b\n",
    "\n",
    "With this information, you can address the question of granularity and so answer the questions below.\n",
    "\n",
    "1. What is the granularity of the businesses data frame? \n",
    "1. How many records are there?\n",
    "1. What does each record represent (e.g., a store, a chain, a transaction)?  \n",
    "1. What is the primary key?\n",
    "\n",
    "Please write your answer in the `q2b_answer` variable. You may create new cells to run code as long as you don't delete the cell below."
   ]
  },
  {
   "cell_type": "code",
   "execution_count": 30,
   "metadata": {
    "deletable": false,
    "nbgrader": {
     "cell_type": "code",
     "checksum": "2507c006bc3191224edf0232b01a1b4c",
     "grade": false,
     "grade_id": "cell-d5e152552a41e14d",
     "locked": false,
     "schema_version": 2,
     "solution": true
    },
    "tags": [
     "student"
    ]
   },
   "outputs": [],
   "source": [
    "# use this cell for scratch work\n",
    "# consider using groupby or value_counts() on the 'name' or 'business_id' "
   ]
  },
  {
   "cell_type": "code",
   "execution_count": 31,
   "metadata": {
    "deletable": false,
    "nbgrader": {
     "cell_type": "code",
     "checksum": "73515a4e56034451b9b156278197fbce",
     "grade": true,
     "grade_id": "q2b-answer",
     "locked": false,
     "points": 1,
     "schema_version": 2,
     "solution": true
    },
    "tags": [
     "student",
     "written"
    ]
   },
   "outputs": [
    {
     "name": "stdout",
     "output_type": "stream",
     "text": [
      "\n",
      "\n",
      "1. Granularity of data: business id, name, address, city, state, postal-code, latitude, longitude, phone-number. \n",
      "2. There are 6406 records.\n",
      "3. Each record includes the information of a specific store/restaurant in SF\n",
      "4. The primary key is the business id. \n",
      "\n",
      "\n"
     ]
    }
   ],
   "source": [
    "q2b_answer = r\"\"\"\n",
    "\n",
    "1. Granularity of data: business id, name, address, city, state, postal-code, latitude, longitude, phone-number. \n",
    "2. There are 6406 records.\n",
    "3. Each record includes the information of a specific store/restaurant in SF\n",
    "4. The primary key is the business id. \n",
    "\n",
    "\"\"\"\n",
    "\n",
    "\n",
    "print(q2b_answer)"
   ]
  },
  {
   "cell_type": "markdown",
   "metadata": {
    "deletable": false,
    "editable": false,
    "nbgrader": {
     "cell_type": "markdown",
     "checksum": "08be899c4acf381681215d12308bbade",
     "grade": false,
     "grade_id": "q3a",
     "locked": true,
     "schema_version": 2,
     "solution": false
    },
    "tags": [
     "written"
    ]
   },
   "source": [
    "## Zip code\n",
    "\n",
    "Next, let's  explore some of the variables in the business table. We begin by examining the postal code.\n",
    "\n",
    "### Question 3\n",
    "\n",
    "#### Question 3a\n",
    "\n",
    "\n",
    "What kind of values are in the variable postal code in the `bus` data frame?  \n",
    "1. Is zip code quantitative or qualitative? If qualitative, is it ordinal or nominal? \n",
    "1. How are the zip code values encoded in python: ints, floats, strings, booleans ...\n",
    "\n",
    "To answer the second question you might want to examine a particular entry."
   ]
  },
  {
   "cell_type": "code",
   "execution_count": 32,
   "metadata": {
    "tags": [
     "solution"
    ]
   },
   "outputs": [
    {
     "data": {
      "text/plain": [
       "str"
      ]
     },
     "execution_count": 32,
     "metadata": {},
     "output_type": "execute_result"
    }
   ],
   "source": [
    "type(bus['postal_code'][0])"
   ]
  },
  {
   "cell_type": "code",
   "execution_count": 33,
   "metadata": {
    "deletable": false,
    "nbgrader": {
     "cell_type": "code",
     "checksum": "96695ab24cdecc1a8c5a4dbe160ba699",
     "grade": true,
     "grade_id": "q3a-answer",
     "locked": false,
     "points": 1,
     "schema_version": 2,
     "solution": true
    },
    "tags": [
     "student",
     "written"
    ]
   },
   "outputs": [
    {
     "name": "stdout",
     "output_type": "stream",
     "text": [
      "\n",
      "\n",
      "1. The zip code is qualitative and nominal. \n",
      "2. Zip values are encoded in string type. \n",
      "\n",
      "\n"
     ]
    }
   ],
   "source": [
    "# Use this cell for your explorations.\n",
    "q3a_answer = r\"\"\"\n",
    "\n",
    "1. The zip code is qualitative and nominal. \n",
    "2. Zip values are encoded in string type. \n",
    "\n",
    "\"\"\"\n",
    "\n",
    "print(q3a_answer)"
   ]
  },
  {
   "cell_type": "markdown",
   "metadata": {
    "deletable": false,
    "editable": false,
    "nbgrader": {
     "cell_type": "markdown",
     "checksum": "7bc43489a4965b9f9eef92eba341f3a5",
     "grade": false,
     "grade_id": "q3b",
     "locked": true,
     "schema_version": 2,
     "solution": false
    }
   },
   "source": [
    "#### Question 3b\n",
    "\n",
    "To explore the zip code values, it makes sense to examine counts, i.e., the number of records  that have the same zip code value. This is essentially answering the question: How many restaurants are in each zip code? \n",
    "\n",
    "Please generate a dataframe with the following structure:\n",
    "\n",
    "- `postal_code` as the index\n",
    "- A column called `count` which denotes the number of restaurants for each zip code.\n",
    "- If the zipcode is missing be sure to replace it with the string `MISSING` (e.g., by using `fillna`)."
   ]
  },
  {
   "cell_type": "code",
   "execution_count": 34,
   "metadata": {
    "deletable": false,
    "nbgrader": {
     "cell_type": "code",
     "checksum": "9c71f0c5cc7776e017fa8397550038a4",
     "grade": false,
     "grade_id": "q3b-answer",
     "locked": false,
     "schema_version": 2,
     "solution": true
    },
    "tags": [
     "solution"
    ]
   },
   "outputs": [],
   "source": [
    "zip_counts = pd.DataFrame(data = bus.fillna(\"MISSING\").groupby('postal_code').count().loc[: , \"business_id\"])\n",
    "zip_counts.columns = [\"count\"]"
   ]
  },
  {
   "cell_type": "code",
   "execution_count": 35,
   "metadata": {
    "deletable": false,
    "editable": false,
    "nbgrader": {
     "cell_type": "code",
     "checksum": "6c3d2e012ea68c250de931a60c94f7fb",
     "grade": true,
     "grade_id": "q3b-tests",
     "locked": true,
     "points": 1,
     "schema_version": 2,
     "solution": false
    }
   },
   "outputs": [],
   "source": [
    "assert isinstance(zip_counts, pd.DataFrame)\n",
    "assert zip_counts.columns == ['count']\n",
    "assert 'MISSING' in list(zip_counts.index)\n"
   ]
  },
  {
   "cell_type": "markdown",
   "metadata": {
    "deletable": false,
    "editable": false,
    "nbgrader": {
     "cell_type": "markdown",
     "checksum": "2ed17c263967b9c3a70687dc798770d9",
     "grade": false,
     "grade_id": "zipcode-details",
     "locked": true,
     "schema_version": 2,
     "solution": false
    }
   },
   "source": [
    "We see that there are many missing values for zip code. There is also some bad data where the postal code got screwed up, e.g., there are 3 'Ca' and 3 'CA' values. Additionally, there are some extended postal codes that are 9 digits long, rather than the typical 5 digits.\n",
    "\n",
    "Let's clean up the extended zip codes by dropping the digits beyond the first 5. It's typically good practice to keep the original values when we are manipulating data and place the modified data in a new column in the DataFrame. We'll call the new column `zip_code`."
   ]
  },
  {
   "cell_type": "code",
   "execution_count": 36,
   "metadata": {
    "deletable": false,
    "editable": false,
    "nbgrader": {
     "cell_type": "code",
     "checksum": "36e5ea67c706af2bddd273649b0dd141",
     "grade": false,
     "grade_id": "run-me",
     "locked": true,
     "schema_version": 2,
     "solution": false
    }
   },
   "outputs": [
    {
     "data": {
      "text/plain": [
       "94110    597\n",
       "94103    553\n",
       "94102    462\n",
       "94107    460\n",
       "94133    426\n",
       "94109    380\n",
       "94111    277\n",
       "94122    273\n",
       "94118    249\n",
       "94115    243\n",
       "NaN      240\n",
       "94105    232\n",
       "94108    228\n",
       "94114    223\n",
       "94117    204\n",
       "94112    195\n",
       "94124    191\n",
       "94123    173\n",
       "94121    160\n",
       "94104    139\n",
       "94132    133\n",
       "94116     99\n",
       "94134     77\n",
       "94127     71\n",
       "94131     49\n",
       "94158     32\n",
       "94130      7\n",
       "94143      5\n",
       "94188      4\n",
       "94101      2\n",
       "00000      2\n",
       "94129      2\n",
       "94014      2\n",
       "94013      2\n",
       "CA         2\n",
       "94120      1\n",
       "64110      1\n",
       "941        1\n",
       "95105      1\n",
       "94602      1\n",
       "Ca         1\n",
       "94080      1\n",
       "92672      1\n",
       "94544      1\n",
       "94621      1\n",
       "94066      1\n",
       "94545      1\n",
       "Name: zip_code, dtype: int64"
      ]
     },
     "execution_count": 36,
     "metadata": {},
     "output_type": "execute_result"
    }
   ],
   "source": [
    "# Run me\n",
    "bus['zip_code'] = bus['postal_code'].str[:5]\n",
    "bus['zip_code'].value_counts(dropna=False)"
   ]
  },
  {
   "cell_type": "markdown",
   "metadata": {
    "deletable": false,
    "editable": false,
    "nbgrader": {
     "cell_type": "markdown",
     "checksum": "3ab90f3b9d527556f7863a0992cb406e",
     "grade": false,
     "grade_id": "q3c",
     "locked": true,
     "schema_version": 2,
     "solution": false
    },
    "tags": [
     "written"
    ]
   },
   "source": [
    "#### Question 3c\n",
    "\n",
    "We notice that there are still a lot of missing values!  Examine the businesses with missing zipcode values.  Pay attention to their addresses.  Are there any patterns to missing values in zip codes?\n",
    "\n",
    "**Hint:** You can use `.iloc` to look at different sections of the DataFrame."
   ]
  },
  {
   "cell_type": "code",
   "execution_count": 37,
   "metadata": {},
   "outputs": [
    {
     "data": {
      "text/html": [
       "<div>\n",
       "<style scoped>\n",
       "    .dataframe tbody tr th:only-of-type {\n",
       "        vertical-align: middle;\n",
       "    }\n",
       "\n",
       "    .dataframe tbody tr th {\n",
       "        vertical-align: top;\n",
       "    }\n",
       "\n",
       "    .dataframe thead th {\n",
       "        text-align: right;\n",
       "    }\n",
       "</style>\n",
       "<table border=\"1\" class=\"dataframe\">\n",
       "  <thead>\n",
       "    <tr style=\"text-align: right;\">\n",
       "      <th></th>\n",
       "      <th>business_id</th>\n",
       "      <th>name</th>\n",
       "      <th>address</th>\n",
       "      <th>city</th>\n",
       "      <th>state</th>\n",
       "      <th>postal_code</th>\n",
       "      <th>latitude</th>\n",
       "      <th>longitude</th>\n",
       "      <th>phone_number</th>\n",
       "      <th>zip_code</th>\n",
       "    </tr>\n",
       "  </thead>\n",
       "  <tbody>\n",
       "    <tr>\n",
       "      <th>1702</th>\n",
       "      <td>8202</td>\n",
       "      <td>XIAO LOONG</td>\n",
       "      <td>250 WEST PORTAL AVENUE</td>\n",
       "      <td>San Francisco</td>\n",
       "      <td>CA</td>\n",
       "      <td>NaN</td>\n",
       "      <td>37.738616</td>\n",
       "      <td>-122.468775</td>\n",
       "      <td>+14152792647</td>\n",
       "      <td>NaN</td>\n",
       "    </tr>\n",
       "    <tr>\n",
       "      <th>1725</th>\n",
       "      <td>9358</td>\n",
       "      <td>EDGEWOOD CHILDREN'S CENTER</td>\n",
       "      <td>1801 VICENTE ST</td>\n",
       "      <td>San Francisco</td>\n",
       "      <td>CA</td>\n",
       "      <td>NaN</td>\n",
       "      <td>37.739083</td>\n",
       "      <td>-122.485437</td>\n",
       "      <td>NaN</td>\n",
       "      <td>NaN</td>\n",
       "    </tr>\n",
       "    <tr>\n",
       "      <th>1731</th>\n",
       "      <td>9582</td>\n",
       "      <td>DIMPLES</td>\n",
       "      <td>1700 POST ST.</td>\n",
       "      <td>San Francisco</td>\n",
       "      <td>CA</td>\n",
       "      <td>NaN</td>\n",
       "      <td>37.785632</td>\n",
       "      <td>-122.429794</td>\n",
       "      <td>+14155190341</td>\n",
       "      <td>NaN</td>\n",
       "    </tr>\n",
       "    <tr>\n",
       "      <th>1747</th>\n",
       "      <td>10011</td>\n",
       "      <td>OSHA THAI NOODLE</td>\n",
       "      <td>819 VALENCIA ST.</td>\n",
       "      <td>San Francisco</td>\n",
       "      <td>CA</td>\n",
       "      <td>NaN</td>\n",
       "      <td>37.759943</td>\n",
       "      <td>-122.421332</td>\n",
       "      <td>+14153109293</td>\n",
       "      <td>NaN</td>\n",
       "    </tr>\n",
       "    <tr>\n",
       "      <th>1754</th>\n",
       "      <td>10227</td>\n",
       "      <td>THE NAPPER TANDY</td>\n",
       "      <td>3200 24TH ST</td>\n",
       "      <td>San Francisco</td>\n",
       "      <td>CA</td>\n",
       "      <td>NaN</td>\n",
       "      <td>37.752581</td>\n",
       "      <td>-122.416482</td>\n",
       "      <td>+14155507510</td>\n",
       "      <td>NaN</td>\n",
       "    </tr>\n",
       "    <tr>\n",
       "      <th>1762</th>\n",
       "      <td>10372</td>\n",
       "      <td>BERNAL HEIGHTS NEIGBORHOOD CENTER</td>\n",
       "      <td>515 CORTLAND AVE</td>\n",
       "      <td>San Francisco</td>\n",
       "      <td>CA</td>\n",
       "      <td>NaN</td>\n",
       "      <td>37.739110</td>\n",
       "      <td>-122.416404</td>\n",
       "      <td>+14152062142</td>\n",
       "      <td>NaN</td>\n",
       "    </tr>\n",
       "    <tr>\n",
       "      <th>1763</th>\n",
       "      <td>10373</td>\n",
       "      <td>EL TONAYENSE #1</td>\n",
       "      <td>1717 HARRISON ST</td>\n",
       "      <td>San Francisco</td>\n",
       "      <td>CA</td>\n",
       "      <td>NaN</td>\n",
       "      <td>37.769426</td>\n",
       "      <td>-122.413446</td>\n",
       "      <td>+14155596127</td>\n",
       "      <td>NaN</td>\n",
       "    </tr>\n",
       "    <tr>\n",
       "      <th>1764</th>\n",
       "      <td>10376</td>\n",
       "      <td>GOOD FRIKIN CHICKEN</td>\n",
       "      <td>10 29TH ST</td>\n",
       "      <td>San Francisco</td>\n",
       "      <td>CA</td>\n",
       "      <td>NaN</td>\n",
       "      <td>37.744369</td>\n",
       "      <td>-122.420967</td>\n",
       "      <td>+14158601365</td>\n",
       "      <td>NaN</td>\n",
       "    </tr>\n",
       "    <tr>\n",
       "      <th>1766</th>\n",
       "      <td>10406</td>\n",
       "      <td>SUNSET YOUTH SERVICES</td>\n",
       "      <td>3918 JUDAH ST</td>\n",
       "      <td>San Francisco</td>\n",
       "      <td>CA</td>\n",
       "      <td>NaN</td>\n",
       "      <td>37.760560</td>\n",
       "      <td>-122.504027</td>\n",
       "      <td>NaN</td>\n",
       "      <td>NaN</td>\n",
       "    </tr>\n",
       "    <tr>\n",
       "      <th>1778</th>\n",
       "      <td>10964</td>\n",
       "      <td>ANGEL'S HOT DOGS</td>\n",
       "      <td>CORNER OF ALAMEDA AND HENRY ADAMS</td>\n",
       "      <td>San Francisco</td>\n",
       "      <td>CA</td>\n",
       "      <td>NaN</td>\n",
       "      <td>NaN</td>\n",
       "      <td>NaN</td>\n",
       "      <td>NaN</td>\n",
       "      <td>NaN</td>\n",
       "    </tr>\n",
       "    <tr>\n",
       "      <th>1788</th>\n",
       "      <td>11416</td>\n",
       "      <td>EL BEACH BURRITO</td>\n",
       "      <td>3914 JUDAH ST</td>\n",
       "      <td>San Francisco</td>\n",
       "      <td>CA</td>\n",
       "      <td>NaN</td>\n",
       "      <td>37.760851</td>\n",
       "      <td>-122.503998</td>\n",
       "      <td>NaN</td>\n",
       "      <td>NaN</td>\n",
       "    </tr>\n",
       "    <tr>\n",
       "      <th>1797</th>\n",
       "      <td>11967</td>\n",
       "      <td>CANTEEN VENDING COMPANY</td>\n",
       "      <td>VARIOUS LOCATIONS</td>\n",
       "      <td>San Francisco</td>\n",
       "      <td>CA</td>\n",
       "      <td>NaN</td>\n",
       "      <td>NaN</td>\n",
       "      <td>NaN</td>\n",
       "      <td>+14159798170</td>\n",
       "      <td>NaN</td>\n",
       "    </tr>\n",
       "    <tr>\n",
       "      <th>1798</th>\n",
       "      <td>11974</td>\n",
       "      <td>WEST COAST VENDING &amp; FOOD SERVICE</td>\n",
       "      <td>VARIOUS LOCATIONS</td>\n",
       "      <td>San Francisco</td>\n",
       "      <td>CA</td>\n",
       "      <td>NaN</td>\n",
       "      <td>NaN</td>\n",
       "      <td>NaN</td>\n",
       "      <td>+14152615954</td>\n",
       "      <td>NaN</td>\n",
       "    </tr>\n",
       "    <tr>\n",
       "      <th>1799</th>\n",
       "      <td>12001</td>\n",
       "      <td>CAHEE'S CATERING</td>\n",
       "      <td>4801 03RD ST</td>\n",
       "      <td>San Francisco</td>\n",
       "      <td>CA</td>\n",
       "      <td>NaN</td>\n",
       "      <td>37.734734</td>\n",
       "      <td>-122.390599</td>\n",
       "      <td>NaN</td>\n",
       "      <td>NaN</td>\n",
       "    </tr>\n",
       "    <tr>\n",
       "      <th>1802</th>\n",
       "      <td>12199</td>\n",
       "      <td>EL GALLO GIRO</td>\n",
       "      <td>3055 23RD ST</td>\n",
       "      <td>San Francisco</td>\n",
       "      <td>CA</td>\n",
       "      <td>NaN</td>\n",
       "      <td>37.754218</td>\n",
       "      <td>-122.413285</td>\n",
       "      <td>+14155772661</td>\n",
       "      <td>NaN</td>\n",
       "    </tr>\n",
       "    <tr>\n",
       "      <th>1805</th>\n",
       "      <td>12344</td>\n",
       "      <td>THE VILLAGE MARKET &amp; PIZZA</td>\n",
       "      <td>750 FONT BLVD</td>\n",
       "      <td>San Francisco</td>\n",
       "      <td>CA</td>\n",
       "      <td>NaN</td>\n",
       "      <td>37.723462</td>\n",
       "      <td>-122.483012</td>\n",
       "      <td>+14153774525</td>\n",
       "      <td>NaN</td>\n",
       "    </tr>\n",
       "    <tr>\n",
       "      <th>1811</th>\n",
       "      <td>13062</td>\n",
       "      <td>EVERETT MIDDLE SCHOOL</td>\n",
       "      <td>450 CHURCH ST</td>\n",
       "      <td>San Francisco</td>\n",
       "      <td>CA</td>\n",
       "      <td>NaN</td>\n",
       "      <td>37.763794</td>\n",
       "      <td>-122.428617</td>\n",
       "      <td>NaN</td>\n",
       "      <td>NaN</td>\n",
       "    </tr>\n",
       "    <tr>\n",
       "      <th>1821</th>\n",
       "      <td>13753</td>\n",
       "      <td>TABOUN</td>\n",
       "      <td>203 PARNASSUS AVE</td>\n",
       "      <td>San Francisco</td>\n",
       "      <td>CA</td>\n",
       "      <td>NaN</td>\n",
       "      <td>37.764574</td>\n",
       "      <td>-122.452950</td>\n",
       "      <td>+14156420168</td>\n",
       "      <td>NaN</td>\n",
       "    </tr>\n",
       "    <tr>\n",
       "      <th>1839</th>\n",
       "      <td>14883</td>\n",
       "      <td>FRIENDSHIP HOUSE HEALING</td>\n",
       "      <td>56 JULIAN</td>\n",
       "      <td>San Francisco</td>\n",
       "      <td>CA</td>\n",
       "      <td>NaN</td>\n",
       "      <td>37.767312</td>\n",
       "      <td>-122.421173</td>\n",
       "      <td>NaN</td>\n",
       "      <td>NaN</td>\n",
       "    </tr>\n",
       "    <tr>\n",
       "      <th>1865</th>\n",
       "      <td>17423</td>\n",
       "      <td>PROJECT OPEN HAND</td>\n",
       "      <td>100 DIAMOND ST</td>\n",
       "      <td>San Francisco</td>\n",
       "      <td>CA</td>\n",
       "      <td>NaN</td>\n",
       "      <td>37.760689</td>\n",
       "      <td>-122.437252</td>\n",
       "      <td>NaN</td>\n",
       "      <td>NaN</td>\n",
       "    </tr>\n",
       "    <tr>\n",
       "      <th>1878</th>\n",
       "      <td>17946</td>\n",
       "      <td>PIZZERIA DELFINA</td>\n",
       "      <td>3611 18TH ST</td>\n",
       "      <td>San Francisco</td>\n",
       "      <td>CA</td>\n",
       "      <td>NaN</td>\n",
       "      <td>37.761657</td>\n",
       "      <td>-122.424347</td>\n",
       "      <td>+14158196457</td>\n",
       "      <td>NaN</td>\n",
       "    </tr>\n",
       "    <tr>\n",
       "      <th>1881</th>\n",
       "      <td>18079</td>\n",
       "      <td>JOE'S COFFEE SHOP</td>\n",
       "      <td>6134 GEARY BLVD</td>\n",
       "      <td>San Francisco</td>\n",
       "      <td>CA</td>\n",
       "      <td>NaN</td>\n",
       "      <td>37.780408</td>\n",
       "      <td>-122.485383</td>\n",
       "      <td>+14156689382</td>\n",
       "      <td>NaN</td>\n",
       "    </tr>\n",
       "    <tr>\n",
       "      <th>1944</th>\n",
       "      <td>19357</td>\n",
       "      <td>ORIGINAL BUFFALO WINGS</td>\n",
       "      <td>2499 LOMBARD ST</td>\n",
       "      <td>San Francisco</td>\n",
       "      <td>CA</td>\n",
       "      <td>NaN</td>\n",
       "      <td>37.799095</td>\n",
       "      <td>-122.442457</td>\n",
       "      <td>+14159318181</td>\n",
       "      <td>NaN</td>\n",
       "    </tr>\n",
       "    <tr>\n",
       "      <th>2095</th>\n",
       "      <td>33114</td>\n",
       "      <td>SAUSALITO CAFE #2</td>\n",
       "      <td>50 BEALE ST 105</td>\n",
       "      <td>San Francisco</td>\n",
       "      <td>CA</td>\n",
       "      <td>NaN</td>\n",
       "      <td>37.792414</td>\n",
       "      <td>-122.397020</td>\n",
       "      <td>NaN</td>\n",
       "      <td>NaN</td>\n",
       "    </tr>\n",
       "    <tr>\n",
       "      <th>2155</th>\n",
       "      <td>34201</td>\n",
       "      <td>TROUBLE COFFEE COMPANY</td>\n",
       "      <td>4033 JUDAH ST</td>\n",
       "      <td>San Francisco</td>\n",
       "      <td>CA</td>\n",
       "      <td>NaN</td>\n",
       "      <td>37.760469</td>\n",
       "      <td>-122.505349</td>\n",
       "      <td>+14156909119</td>\n",
       "      <td>NaN</td>\n",
       "    </tr>\n",
       "    <tr>\n",
       "      <th>2160</th>\n",
       "      <td>34331</td>\n",
       "      <td>STANLEY'S STEAMERS</td>\n",
       "      <td>NW CORNER GRANT AT GEARY ST ON GRANT</td>\n",
       "      <td>San Francisco</td>\n",
       "      <td>CA</td>\n",
       "      <td>NaN</td>\n",
       "      <td>37.787954</td>\n",
       "      <td>-122.405035</td>\n",
       "      <td>NaN</td>\n",
       "      <td>NaN</td>\n",
       "    </tr>\n",
       "    <tr>\n",
       "      <th>2206</th>\n",
       "      <td>35469</td>\n",
       "      <td>SUBWAY #36339</td>\n",
       "      <td>1099 MISSION ST</td>\n",
       "      <td>San Francisco</td>\n",
       "      <td>CA</td>\n",
       "      <td>NaN</td>\n",
       "      <td>37.779466</td>\n",
       "      <td>-122.410903</td>\n",
       "      <td>+14152419033</td>\n",
       "      <td>NaN</td>\n",
       "    </tr>\n",
       "    <tr>\n",
       "      <th>2257</th>\n",
       "      <td>36546</td>\n",
       "      <td>EPIC ROASTHOUSE</td>\n",
       "      <td>PIER26 EMBARCADERO</td>\n",
       "      <td>San Francisco</td>\n",
       "      <td>CA</td>\n",
       "      <td>NaN</td>\n",
       "      <td>NaN</td>\n",
       "      <td>NaN</td>\n",
       "      <td>NaN</td>\n",
       "      <td>NaN</td>\n",
       "    </tr>\n",
       "    <tr>\n",
       "      <th>2263</th>\n",
       "      <td>36608</td>\n",
       "      <td>TAQUERIA ANGELICA'S</td>\n",
       "      <td>1301 CESAR CHAVEZ ST</td>\n",
       "      <td>San Francisco</td>\n",
       "      <td>CA</td>\n",
       "      <td>NaN</td>\n",
       "      <td>37.748543</td>\n",
       "      <td>-122.390883</td>\n",
       "      <td>+14158343695</td>\n",
       "      <td>NaN</td>\n",
       "    </tr>\n",
       "    <tr>\n",
       "      <th>2348</th>\n",
       "      <td>38146</td>\n",
       "      <td>SAN PANCHO'S TACOS</td>\n",
       "      <td>491 BAYSHORE ST</td>\n",
       "      <td>San Francisco</td>\n",
       "      <td>CA</td>\n",
       "      <td>NaN</td>\n",
       "      <td>NaN</td>\n",
       "      <td>NaN</td>\n",
       "      <td>+14153375152</td>\n",
       "      <td>NaN</td>\n",
       "    </tr>\n",
       "    <tr>\n",
       "      <th>...</th>\n",
       "      <td>...</td>\n",
       "      <td>...</td>\n",
       "      <td>...</td>\n",
       "      <td>...</td>\n",
       "      <td>...</td>\n",
       "      <td>...</td>\n",
       "      <td>...</td>\n",
       "      <td>...</td>\n",
       "      <td>...</td>\n",
       "      <td>...</td>\n",
       "    </tr>\n",
       "    <tr>\n",
       "      <th>5657</th>\n",
       "      <td>89436</td>\n",
       "      <td>ELIXIRIA</td>\n",
       "      <td>301 25TH AVE</td>\n",
       "      <td>San Francisco</td>\n",
       "      <td>CA</td>\n",
       "      <td>NaN</td>\n",
       "      <td>NaN</td>\n",
       "      <td>NaN</td>\n",
       "      <td>+14159486537</td>\n",
       "      <td>NaN</td>\n",
       "    </tr>\n",
       "    <tr>\n",
       "      <th>5697</th>\n",
       "      <td>89678</td>\n",
       "      <td>BONITO POKE</td>\n",
       "      <td>2277 SHAFTER AVE</td>\n",
       "      <td>San Francisco</td>\n",
       "      <td>CA</td>\n",
       "      <td>NaN</td>\n",
       "      <td>NaN</td>\n",
       "      <td>NaN</td>\n",
       "      <td>+14155335548</td>\n",
       "      <td>NaN</td>\n",
       "    </tr>\n",
       "    <tr>\n",
       "      <th>5706</th>\n",
       "      <td>89723</td>\n",
       "      <td>PASSIONE PIZZA</td>\n",
       "      <td>OFF THE GRID</td>\n",
       "      <td>San Francisco</td>\n",
       "      <td>CA</td>\n",
       "      <td>NaN</td>\n",
       "      <td>NaN</td>\n",
       "      <td>NaN</td>\n",
       "      <td>+14152068822</td>\n",
       "      <td>NaN</td>\n",
       "    </tr>\n",
       "    <tr>\n",
       "      <th>5714</th>\n",
       "      <td>89759</td>\n",
       "      <td>LAMAS PERUVIAN FOOD TRUCK</td>\n",
       "      <td>PRIVATE LOCATIONS</td>\n",
       "      <td>San Francisco</td>\n",
       "      <td>CA</td>\n",
       "      <td>NaN</td>\n",
       "      <td>NaN</td>\n",
       "      <td>NaN</td>\n",
       "      <td>+14157979866</td>\n",
       "      <td>NaN</td>\n",
       "    </tr>\n",
       "    <tr>\n",
       "      <th>5732</th>\n",
       "      <td>89839</td>\n",
       "      <td>COOKSOO TRUCK LLC</td>\n",
       "      <td>APPROVED PRIVATE LOCATIONS</td>\n",
       "      <td>San Francisco</td>\n",
       "      <td>CA</td>\n",
       "      <td>NaN</td>\n",
       "      <td>NaN</td>\n",
       "      <td>NaN</td>\n",
       "      <td>+14152765462</td>\n",
       "      <td>NaN</td>\n",
       "    </tr>\n",
       "    <tr>\n",
       "      <th>5736</th>\n",
       "      <td>89856</td>\n",
       "      <td>THE KOREAN KITCHEN</td>\n",
       "      <td>1220 09TH AVE</td>\n",
       "      <td>San Francisco</td>\n",
       "      <td>CA</td>\n",
       "      <td>NaN</td>\n",
       "      <td>NaN</td>\n",
       "      <td>NaN</td>\n",
       "      <td>+14157305897</td>\n",
       "      <td>NaN</td>\n",
       "    </tr>\n",
       "    <tr>\n",
       "      <th>5738</th>\n",
       "      <td>89900</td>\n",
       "      <td>TOUT SWEET PATISSERIE</td>\n",
       "      <td>170 O'FARRELL ST</td>\n",
       "      <td>San Francisco</td>\n",
       "      <td>CA</td>\n",
       "      <td>NaN</td>\n",
       "      <td>NaN</td>\n",
       "      <td>NaN</td>\n",
       "      <td>+14156529020</td>\n",
       "      <td>NaN</td>\n",
       "    </tr>\n",
       "    <tr>\n",
       "      <th>5786</th>\n",
       "      <td>90194</td>\n",
       "      <td>JACKRABBIT</td>\n",
       "      <td>OFF THE GRID</td>\n",
       "      <td>San Francisco</td>\n",
       "      <td>CA</td>\n",
       "      <td>NaN</td>\n",
       "      <td>NaN</td>\n",
       "      <td>NaN</td>\n",
       "      <td>+14153782051</td>\n",
       "      <td>NaN</td>\n",
       "    </tr>\n",
       "    <tr>\n",
       "      <th>5789</th>\n",
       "      <td>90213</td>\n",
       "      <td>SENOR SISIG (#6)</td>\n",
       "      <td>OFF THE GRID</td>\n",
       "      <td>San Francisco</td>\n",
       "      <td>CA</td>\n",
       "      <td>NaN</td>\n",
       "      <td>NaN</td>\n",
       "      <td>NaN</td>\n",
       "      <td>+14156085048</td>\n",
       "      <td>NaN</td>\n",
       "    </tr>\n",
       "    <tr>\n",
       "      <th>5827</th>\n",
       "      <td>90353</td>\n",
       "      <td>PARK GYROS</td>\n",
       "      <td>2831 CESAR CHAVEZ ST</td>\n",
       "      <td>San Francisco</td>\n",
       "      <td>CA</td>\n",
       "      <td>NaN</td>\n",
       "      <td>NaN</td>\n",
       "      <td>NaN</td>\n",
       "      <td>+14154303256</td>\n",
       "      <td>NaN</td>\n",
       "    </tr>\n",
       "    <tr>\n",
       "      <th>5835</th>\n",
       "      <td>90433</td>\n",
       "      <td>GAGA'S ROLLIN DINER</td>\n",
       "      <td>OFF THE GRID</td>\n",
       "      <td>San Francisco</td>\n",
       "      <td>CA</td>\n",
       "      <td>NaN</td>\n",
       "      <td>NaN</td>\n",
       "      <td>NaN</td>\n",
       "      <td>+14156553116</td>\n",
       "      <td>NaN</td>\n",
       "    </tr>\n",
       "    <tr>\n",
       "      <th>5836</th>\n",
       "      <td>90434</td>\n",
       "      <td>BAAGAN</td>\n",
       "      <td>OFF THE GRID</td>\n",
       "      <td>San Francisco</td>\n",
       "      <td>CA</td>\n",
       "      <td>NaN</td>\n",
       "      <td>NaN</td>\n",
       "      <td>NaN</td>\n",
       "      <td>+14157572038</td>\n",
       "      <td>NaN</td>\n",
       "    </tr>\n",
       "    <tr>\n",
       "      <th>5840</th>\n",
       "      <td>90441</td>\n",
       "      <td>SF HILTON BANQUET FACILITIES</td>\n",
       "      <td>333 O'FARRELL</td>\n",
       "      <td>San Francisco</td>\n",
       "      <td>CA</td>\n",
       "      <td>NaN</td>\n",
       "      <td>NaN</td>\n",
       "      <td>NaN</td>\n",
       "      <td>+14157711400</td>\n",
       "      <td>NaN</td>\n",
       "    </tr>\n",
       "    <tr>\n",
       "      <th>5848</th>\n",
       "      <td>90470</td>\n",
       "      <td>NORTH BORDER TACO</td>\n",
       "      <td>TREASURE ISLAND</td>\n",
       "      <td>San Francisco</td>\n",
       "      <td>CA</td>\n",
       "      <td>NaN</td>\n",
       "      <td>NaN</td>\n",
       "      <td>NaN</td>\n",
       "      <td>+14153706314</td>\n",
       "      <td>NaN</td>\n",
       "    </tr>\n",
       "    <tr>\n",
       "      <th>5862</th>\n",
       "      <td>90536</td>\n",
       "      <td>SERENDIPITY SF</td>\n",
       "      <td>APPROVED PRIVATE LOCATIONS</td>\n",
       "      <td>San Francisco</td>\n",
       "      <td>CA</td>\n",
       "      <td>NaN</td>\n",
       "      <td>NaN</td>\n",
       "      <td>NaN</td>\n",
       "      <td>+14154791437</td>\n",
       "      <td>NaN</td>\n",
       "    </tr>\n",
       "    <tr>\n",
       "      <th>5865</th>\n",
       "      <td>90560</td>\n",
       "      <td>COLETTA GELATO</td>\n",
       "      <td>OFF THE GRID</td>\n",
       "      <td>San Francisco</td>\n",
       "      <td>CA</td>\n",
       "      <td>NaN</td>\n",
       "      <td>NaN</td>\n",
       "      <td>NaN</td>\n",
       "      <td>+14152991032</td>\n",
       "      <td>NaN</td>\n",
       "    </tr>\n",
       "    <tr>\n",
       "      <th>5876</th>\n",
       "      <td>90597</td>\n",
       "      <td>MOONRAKER MOBILE (#2)</td>\n",
       "      <td>OFF THE GRID</td>\n",
       "      <td>San Francisco</td>\n",
       "      <td>CA</td>\n",
       "      <td>NaN</td>\n",
       "      <td>NaN</td>\n",
       "      <td>NaN</td>\n",
       "      <td>+14155571232</td>\n",
       "      <td>NaN</td>\n",
       "    </tr>\n",
       "    <tr>\n",
       "      <th>5890</th>\n",
       "      <td>90708</td>\n",
       "      <td>CREPERIE SAINT GERMAIN</td>\n",
       "      <td>201 2ND ST</td>\n",
       "      <td>San Francisco</td>\n",
       "      <td>CA</td>\n",
       "      <td>NaN</td>\n",
       "      <td>NaN</td>\n",
       "      <td>NaN</td>\n",
       "      <td>+14159487348</td>\n",
       "      <td>NaN</td>\n",
       "    </tr>\n",
       "    <tr>\n",
       "      <th>5898</th>\n",
       "      <td>90792</td>\n",
       "      <td>THE GAME DAY TRUCK</td>\n",
       "      <td>OFF THE GRID</td>\n",
       "      <td>San Francisco</td>\n",
       "      <td>CA</td>\n",
       "      <td>NaN</td>\n",
       "      <td>NaN</td>\n",
       "      <td>NaN</td>\n",
       "      <td>+14157626170</td>\n",
       "      <td>NaN</td>\n",
       "    </tr>\n",
       "    <tr>\n",
       "      <th>5985</th>\n",
       "      <td>91170</td>\n",
       "      <td>PASSION PERUANA, LLC</td>\n",
       "      <td>993 NORTH POINT ST</td>\n",
       "      <td>San Francisco</td>\n",
       "      <td>CA</td>\n",
       "      <td>NaN</td>\n",
       "      <td>NaN</td>\n",
       "      <td>NaN</td>\n",
       "      <td>NaN</td>\n",
       "      <td>NaN</td>\n",
       "    </tr>\n",
       "    <tr>\n",
       "      <th>6006</th>\n",
       "      <td>91273</td>\n",
       "      <td>DA POKE MAN</td>\n",
       "      <td>OFF THE GRID</td>\n",
       "      <td>San Francisco</td>\n",
       "      <td>CA</td>\n",
       "      <td>NaN</td>\n",
       "      <td>NaN</td>\n",
       "      <td>NaN</td>\n",
       "      <td>+14157899447</td>\n",
       "      <td>NaN</td>\n",
       "    </tr>\n",
       "    <tr>\n",
       "      <th>6015</th>\n",
       "      <td>91313</td>\n",
       "      <td>TACOS SANTO TORIBIO</td>\n",
       "      <td>928 TOLAND</td>\n",
       "      <td>San Francisco</td>\n",
       "      <td>CA</td>\n",
       "      <td>NaN</td>\n",
       "      <td>NaN</td>\n",
       "      <td>NaN</td>\n",
       "      <td>+14155059190</td>\n",
       "      <td>NaN</td>\n",
       "    </tr>\n",
       "    <tr>\n",
       "      <th>6078</th>\n",
       "      <td>91826</td>\n",
       "      <td>THE WAFFLE ROOST</td>\n",
       "      <td>OFF THE GRID</td>\n",
       "      <td>San Francisco</td>\n",
       "      <td>CA</td>\n",
       "      <td>NaN</td>\n",
       "      <td>NaN</td>\n",
       "      <td>NaN</td>\n",
       "      <td>+14153144823</td>\n",
       "      <td>NaN</td>\n",
       "    </tr>\n",
       "    <tr>\n",
       "      <th>6101</th>\n",
       "      <td>91955</td>\n",
       "      <td>KOME SUSHI BURRITO</td>\n",
       "      <td>OTG</td>\n",
       "      <td>San Francisco</td>\n",
       "      <td>CA</td>\n",
       "      <td>NaN</td>\n",
       "      <td>NaN</td>\n",
       "      <td>NaN</td>\n",
       "      <td>+14153949717</td>\n",
       "      <td>NaN</td>\n",
       "    </tr>\n",
       "    <tr>\n",
       "      <th>6168</th>\n",
       "      <td>92417</td>\n",
       "      <td>MAI THAI KITCHEN</td>\n",
       "      <td>OTG</td>\n",
       "      <td>San Francisco</td>\n",
       "      <td>CA</td>\n",
       "      <td>NaN</td>\n",
       "      <td>NaN</td>\n",
       "      <td>NaN</td>\n",
       "      <td>NaN</td>\n",
       "      <td>NaN</td>\n",
       "    </tr>\n",
       "    <tr>\n",
       "      <th>6194</th>\n",
       "      <td>92563</td>\n",
       "      <td>LA BOULANGERIE DE SAN FRANCISCO</td>\n",
       "      <td>655 MONTGOMERY ST</td>\n",
       "      <td>San Francisco</td>\n",
       "      <td>CA</td>\n",
       "      <td>NaN</td>\n",
       "      <td>NaN</td>\n",
       "      <td>NaN</td>\n",
       "      <td>+14158239635</td>\n",
       "      <td>NaN</td>\n",
       "    </tr>\n",
       "    <tr>\n",
       "      <th>6223</th>\n",
       "      <td>92857</td>\n",
       "      <td>MOBI MUNCH, INC.</td>\n",
       "      <td>OFF THE GRID</td>\n",
       "      <td>San Francisco</td>\n",
       "      <td>CA</td>\n",
       "      <td>NaN</td>\n",
       "      <td>NaN</td>\n",
       "      <td>NaN</td>\n",
       "      <td>+14152899800</td>\n",
       "      <td>NaN</td>\n",
       "    </tr>\n",
       "    <tr>\n",
       "      <th>6240</th>\n",
       "      <td>93029</td>\n",
       "      <td>BAHN MI ZON</td>\n",
       "      <td>OFF THE GRID</td>\n",
       "      <td>San Francisco</td>\n",
       "      <td>CA</td>\n",
       "      <td>NaN</td>\n",
       "      <td>NaN</td>\n",
       "      <td>NaN</td>\n",
       "      <td>+14152414342</td>\n",
       "      <td>NaN</td>\n",
       "    </tr>\n",
       "    <tr>\n",
       "      <th>6354</th>\n",
       "      <td>94123</td>\n",
       "      <td>BON APPETIT @ AIRBNB</td>\n",
       "      <td>999 BRANNAN ST</td>\n",
       "      <td>San Francisco</td>\n",
       "      <td>CA</td>\n",
       "      <td>NaN</td>\n",
       "      <td>NaN</td>\n",
       "      <td>NaN</td>\n",
       "      <td>+1415 Alieri</td>\n",
       "      <td>NaN</td>\n",
       "    </tr>\n",
       "    <tr>\n",
       "      <th>6387</th>\n",
       "      <td>94409</td>\n",
       "      <td>AUGUST HALL</td>\n",
       "      <td>420 MASON ST</td>\n",
       "      <td>San Francisco</td>\n",
       "      <td>CA</td>\n",
       "      <td>NaN</td>\n",
       "      <td>NaN</td>\n",
       "      <td>NaN</td>\n",
       "      <td>NaN</td>\n",
       "      <td>NaN</td>\n",
       "    </tr>\n",
       "  </tbody>\n",
       "</table>\n",
       "<p>240 rows × 10 columns</p>\n",
       "</div>"
      ],
      "text/plain": [
       "      business_id                               name  \\\n",
       "1702         8202                         XIAO LOONG   \n",
       "1725         9358         EDGEWOOD CHILDREN'S CENTER   \n",
       "1731         9582                            DIMPLES   \n",
       "1747        10011                   OSHA THAI NOODLE   \n",
       "1754        10227                   THE NAPPER TANDY   \n",
       "1762        10372  BERNAL HEIGHTS NEIGBORHOOD CENTER   \n",
       "1763        10373                    EL TONAYENSE #1   \n",
       "1764        10376                GOOD FRIKIN CHICKEN   \n",
       "1766        10406              SUNSET YOUTH SERVICES   \n",
       "1778        10964                   ANGEL'S HOT DOGS   \n",
       "1788        11416                   EL BEACH BURRITO   \n",
       "1797        11967            CANTEEN VENDING COMPANY   \n",
       "1798        11974  WEST COAST VENDING & FOOD SERVICE   \n",
       "1799        12001                   CAHEE'S CATERING   \n",
       "1802        12199                      EL GALLO GIRO   \n",
       "1805        12344         THE VILLAGE MARKET & PIZZA   \n",
       "1811        13062              EVERETT MIDDLE SCHOOL   \n",
       "1821        13753                             TABOUN   \n",
       "1839        14883           FRIENDSHIP HOUSE HEALING   \n",
       "1865        17423                  PROJECT OPEN HAND   \n",
       "1878        17946                   PIZZERIA DELFINA   \n",
       "1881        18079                  JOE'S COFFEE SHOP   \n",
       "1944        19357             ORIGINAL BUFFALO WINGS   \n",
       "2095        33114                  SAUSALITO CAFE #2   \n",
       "2155        34201             TROUBLE COFFEE COMPANY   \n",
       "2160        34331                 STANLEY'S STEAMERS   \n",
       "2206        35469                      SUBWAY #36339   \n",
       "2257        36546                    EPIC ROASTHOUSE   \n",
       "2263        36608                TAQUERIA ANGELICA'S   \n",
       "2348        38146                 SAN PANCHO'S TACOS   \n",
       "...           ...                                ...   \n",
       "5657        89436                           ELIXIRIA   \n",
       "5697        89678                        BONITO POKE   \n",
       "5706        89723                     PASSIONE PIZZA   \n",
       "5714        89759          LAMAS PERUVIAN FOOD TRUCK   \n",
       "5732        89839                  COOKSOO TRUCK LLC   \n",
       "5736        89856                 THE KOREAN KITCHEN   \n",
       "5738        89900              TOUT SWEET PATISSERIE   \n",
       "5786        90194                         JACKRABBIT   \n",
       "5789        90213                   SENOR SISIG (#6)   \n",
       "5827        90353                         PARK GYROS   \n",
       "5835        90433                GAGA'S ROLLIN DINER   \n",
       "5836        90434                             BAAGAN   \n",
       "5840        90441       SF HILTON BANQUET FACILITIES   \n",
       "5848        90470                  NORTH BORDER TACO   \n",
       "5862        90536                     SERENDIPITY SF   \n",
       "5865        90560                     COLETTA GELATO   \n",
       "5876        90597              MOONRAKER MOBILE (#2)   \n",
       "5890        90708             CREPERIE SAINT GERMAIN   \n",
       "5898        90792                 THE GAME DAY TRUCK   \n",
       "5985        91170               PASSION PERUANA, LLC   \n",
       "6006        91273                        DA POKE MAN   \n",
       "6015        91313                TACOS SANTO TORIBIO   \n",
       "6078        91826                   THE WAFFLE ROOST   \n",
       "6101        91955                 KOME SUSHI BURRITO   \n",
       "6168        92417                   MAI THAI KITCHEN   \n",
       "6194        92563    LA BOULANGERIE DE SAN FRANCISCO   \n",
       "6223        92857                   MOBI MUNCH, INC.   \n",
       "6240        93029                        BAHN MI ZON   \n",
       "6354        94123               BON APPETIT @ AIRBNB   \n",
       "6387        94409                        AUGUST HALL   \n",
       "\n",
       "                                    address           city state postal_code  \\\n",
       "1702                 250 WEST PORTAL AVENUE  San Francisco    CA         NaN   \n",
       "1725                       1801 VICENTE ST   San Francisco    CA         NaN   \n",
       "1731                          1700 POST ST.  San Francisco    CA         NaN   \n",
       "1747                       819 VALENCIA ST.  San Francisco    CA         NaN   \n",
       "1754                          3200 24TH ST   San Francisco    CA         NaN   \n",
       "1762                       515 CORTLAND AVE  San Francisco    CA         NaN   \n",
       "1763                      1717 HARRISON ST   San Francisco    CA         NaN   \n",
       "1764                            10 29TH ST   San Francisco    CA         NaN   \n",
       "1766                          3918 JUDAH ST  San Francisco    CA         NaN   \n",
       "1778      CORNER OF ALAMEDA AND HENRY ADAMS  San Francisco    CA         NaN   \n",
       "1788                          3914 JUDAH ST  San Francisco    CA         NaN   \n",
       "1797                      VARIOUS LOCATIONS  San Francisco    CA         NaN   \n",
       "1798                      VARIOUS LOCATIONS  San Francisco    CA         NaN   \n",
       "1799                          4801 03RD ST   San Francisco    CA         NaN   \n",
       "1802                          3055 23RD ST   San Francisco    CA         NaN   \n",
       "1805                          750 FONT BLVD  San Francisco    CA         NaN   \n",
       "1811                         450 CHURCH ST   San Francisco    CA         NaN   \n",
       "1821                     203 PARNASSUS AVE   San Francisco    CA         NaN   \n",
       "1839                              56 JULIAN  San Francisco    CA         NaN   \n",
       "1865                        100 DIAMOND ST   San Francisco    CA         NaN   \n",
       "1878                          3611 18TH ST   San Francisco    CA         NaN   \n",
       "1881                       6134 GEARY BLVD   San Francisco    CA         NaN   \n",
       "1944                       2499 LOMBARD ST   San Francisco    CA         NaN   \n",
       "2095                        50 BEALE ST 105  San Francisco    CA         NaN   \n",
       "2155                         4033 JUDAH ST   San Francisco    CA         NaN   \n",
       "2160   NW CORNER GRANT AT GEARY ST ON GRANT  San Francisco    CA         NaN   \n",
       "2206                       1099 MISSION ST   San Francisco    CA         NaN   \n",
       "2257                   PIER26 EMBARCADERO    San Francisco    CA         NaN   \n",
       "2263                  1301 CESAR CHAVEZ ST   San Francisco    CA         NaN   \n",
       "2348                       491 BAYSHORE ST   San Francisco    CA         NaN   \n",
       "...                                     ...            ...   ...         ...   \n",
       "5657                          301 25TH AVE   San Francisco    CA         NaN   \n",
       "5697                      2277 SHAFTER AVE   San Francisco    CA         NaN   \n",
       "5706                         OFF THE GRID    San Francisco    CA         NaN   \n",
       "5714                    PRIVATE LOCATIONS    San Francisco    CA         NaN   \n",
       "5732           APPROVED PRIVATE LOCATIONS    San Francisco    CA         NaN   \n",
       "5736                         1220 09TH AVE   San Francisco    CA         NaN   \n",
       "5738                      170 O'FARRELL ST   San Francisco    CA         NaN   \n",
       "5786                         OFF THE GRID    San Francisco    CA         NaN   \n",
       "5789                         OFF THE GRID    San Francisco    CA         NaN   \n",
       "5827                  2831 CESAR CHAVEZ ST   San Francisco    CA         NaN   \n",
       "5835                         OFF THE GRID    San Francisco    CA         NaN   \n",
       "5836                         OFF THE GRID    San Francisco    CA         NaN   \n",
       "5840                        333 O'FARRELL    San Francisco    CA         NaN   \n",
       "5848                      TREASURE ISLAND    San Francisco    CA         NaN   \n",
       "5862           APPROVED PRIVATE LOCATIONS    San Francisco    CA         NaN   \n",
       "5865                         OFF THE GRID    San Francisco    CA         NaN   \n",
       "5876                         OFF THE GRID    San Francisco    CA         NaN   \n",
       "5890                            201 2ND ST   San Francisco    CA         NaN   \n",
       "5898                         OFF THE GRID    San Francisco    CA         NaN   \n",
       "5985                    993 NORTH POINT ST   San Francisco    CA         NaN   \n",
       "6006                         OFF THE GRID    San Francisco    CA         NaN   \n",
       "6015                           928 TOLAND    San Francisco    CA         NaN   \n",
       "6078                         OFF THE GRID    San Francisco    CA         NaN   \n",
       "6101                                  OTG    San Francisco    CA         NaN   \n",
       "6168                                  OTG    San Francisco    CA         NaN   \n",
       "6194                     655 MONTGOMERY ST   San Francisco    CA         NaN   \n",
       "6223                         OFF THE GRID    San Francisco    CA         NaN   \n",
       "6240                         OFF THE GRID    San Francisco    CA         NaN   \n",
       "6354                       999 BRANNAN ST    San Francisco    CA         NaN   \n",
       "6387                          420 MASON ST   San Francisco    CA         NaN   \n",
       "\n",
       "       latitude   longitude  phone_number zip_code  \n",
       "1702  37.738616 -122.468775  +14152792647      NaN  \n",
       "1725  37.739083 -122.485437           NaN      NaN  \n",
       "1731  37.785632 -122.429794  +14155190341      NaN  \n",
       "1747  37.759943 -122.421332  +14153109293      NaN  \n",
       "1754  37.752581 -122.416482  +14155507510      NaN  \n",
       "1762  37.739110 -122.416404  +14152062142      NaN  \n",
       "1763  37.769426 -122.413446  +14155596127      NaN  \n",
       "1764  37.744369 -122.420967  +14158601365      NaN  \n",
       "1766  37.760560 -122.504027           NaN      NaN  \n",
       "1778        NaN         NaN           NaN      NaN  \n",
       "1788  37.760851 -122.503998           NaN      NaN  \n",
       "1797        NaN         NaN  +14159798170      NaN  \n",
       "1798        NaN         NaN  +14152615954      NaN  \n",
       "1799  37.734734 -122.390599           NaN      NaN  \n",
       "1802  37.754218 -122.413285  +14155772661      NaN  \n",
       "1805  37.723462 -122.483012  +14153774525      NaN  \n",
       "1811  37.763794 -122.428617           NaN      NaN  \n",
       "1821  37.764574 -122.452950  +14156420168      NaN  \n",
       "1839  37.767312 -122.421173           NaN      NaN  \n",
       "1865  37.760689 -122.437252           NaN      NaN  \n",
       "1878  37.761657 -122.424347  +14158196457      NaN  \n",
       "1881  37.780408 -122.485383  +14156689382      NaN  \n",
       "1944  37.799095 -122.442457  +14159318181      NaN  \n",
       "2095  37.792414 -122.397020           NaN      NaN  \n",
       "2155  37.760469 -122.505349  +14156909119      NaN  \n",
       "2160  37.787954 -122.405035           NaN      NaN  \n",
       "2206  37.779466 -122.410903  +14152419033      NaN  \n",
       "2257        NaN         NaN           NaN      NaN  \n",
       "2263  37.748543 -122.390883  +14158343695      NaN  \n",
       "2348        NaN         NaN  +14153375152      NaN  \n",
       "...         ...         ...           ...      ...  \n",
       "5657        NaN         NaN  +14159486537      NaN  \n",
       "5697        NaN         NaN  +14155335548      NaN  \n",
       "5706        NaN         NaN  +14152068822      NaN  \n",
       "5714        NaN         NaN  +14157979866      NaN  \n",
       "5732        NaN         NaN  +14152765462      NaN  \n",
       "5736        NaN         NaN  +14157305897      NaN  \n",
       "5738        NaN         NaN  +14156529020      NaN  \n",
       "5786        NaN         NaN  +14153782051      NaN  \n",
       "5789        NaN         NaN  +14156085048      NaN  \n",
       "5827        NaN         NaN  +14154303256      NaN  \n",
       "5835        NaN         NaN  +14156553116      NaN  \n",
       "5836        NaN         NaN  +14157572038      NaN  \n",
       "5840        NaN         NaN  +14157711400      NaN  \n",
       "5848        NaN         NaN  +14153706314      NaN  \n",
       "5862        NaN         NaN  +14154791437      NaN  \n",
       "5865        NaN         NaN  +14152991032      NaN  \n",
       "5876        NaN         NaN  +14155571232      NaN  \n",
       "5890        NaN         NaN  +14159487348      NaN  \n",
       "5898        NaN         NaN  +14157626170      NaN  \n",
       "5985        NaN         NaN           NaN      NaN  \n",
       "6006        NaN         NaN  +14157899447      NaN  \n",
       "6015        NaN         NaN  +14155059190      NaN  \n",
       "6078        NaN         NaN  +14153144823      NaN  \n",
       "6101        NaN         NaN  +14153949717      NaN  \n",
       "6168        NaN         NaN           NaN      NaN  \n",
       "6194        NaN         NaN  +14158239635      NaN  \n",
       "6223        NaN         NaN  +14152899800      NaN  \n",
       "6240        NaN         NaN  +14152414342      NaN  \n",
       "6354        NaN         NaN  +1415 Alieri      NaN  \n",
       "6387        NaN         NaN           NaN      NaN  \n",
       "\n",
       "[240 rows x 10 columns]"
      ]
     },
     "execution_count": 37,
     "metadata": {},
     "output_type": "execute_result"
    }
   ],
   "source": [
    "bus[bus[\"zip_code\"].isnull()]"
   ]
  },
  {
   "cell_type": "code",
   "execution_count": 38,
   "metadata": {
    "deletable": false,
    "nbgrader": {
     "cell_type": "code",
     "checksum": "2d5517a6cadcafdb8084365421a18bea",
     "grade": true,
     "grade_id": "q3c-answer",
     "locked": false,
     "points": 1,
     "schema_version": 2,
     "solution": true
    },
    "tags": [
     "student",
     "written"
    ]
   },
   "outputs": [
    {
     "name": "stdout",
     "output_type": "stream",
     "text": [
      "\n",
      "\n",
      "Many of the locations are either 'off the grid', or 'approved private locations', or 'various locations', meaning \n",
      "that they are not open to public, or farawary from the city that it's hard to spot them using zipcode, or it has \n",
      "multiple restaurants which can not be represented by a single zipcode\n",
      "\n",
      "\n"
     ]
    }
   ],
   "source": [
    "# Use this cell for your explorations.\n",
    "q3c_answer = r\"\"\"\n",
    "\n",
    "Many of the locations are either 'off the grid', or 'approved private locations', or 'various locations', meaning \n",
    "that they are not open to public, or farawary from the city that it's hard to spot them using zipcode, or it has \n",
    "multiple restaurants which can not be represented by a single zipcode\n",
    "\n",
    "\"\"\"\n",
    "\n",
    "\n",
    "print(q3c_answer)"
   ]
  },
  {
   "cell_type": "markdown",
   "metadata": {
    "deletable": false,
    "editable": false,
    "nbgrader": {
     "cell_type": "markdown",
     "checksum": "1e3f0b09b55e8c02f4c686b16d2a28b8",
     "grade": false,
     "grade_id": "q3d",
     "locked": true,
     "schema_version": 2,
     "solution": false
    },
    "tags": [
     "written"
    ]
   },
   "source": [
    "#### Question 3d\n",
    "\n",
    "Often times, we need to get additional information in order to understand whether or not the data are bad values or simply unusual values. With zip codes, we can use the Internet to investigate the zip codes that have only a few businesses. Investigate the restaurants at the following zip codes: *94545*, *94602*, and *94609*.  \n",
    "\n",
    "Briefly describe why these strange zip codes might be appropriate.  Where are they located and how might they relate to San Francisco?\n"
   ]
  },
  {
   "cell_type": "code",
   "execution_count": 39,
   "metadata": {
    "deletable": false,
    "nbgrader": {
     "cell_type": "code",
     "checksum": "3e5bba4b77e6de3c91747c8ca3d3fc74",
     "grade": true,
     "grade_id": "q3d-answer",
     "locked": false,
     "points": 1,
     "schema_version": 2,
     "solution": true
    },
    "scrolled": false,
    "tags": [
     "student",
     "written"
    ]
   },
   "outputs": [
    {
     "name": "stdout",
     "output_type": "stream",
     "text": [
      "\n",
      "\n",
      "\n",
      "94545 - Union City, J & J Vending, a family owned and operated business that provides pantry, office coffee, micro market & vending services to the SF Bay Area\n",
      "\n",
      "94602 - San Francisco, ORBIT ROOM, a Laid-back Market Street locale serving clever handcrafted cocktails to an eclectic crowd.\n",
      "\n",
      "94609 - Oakland, None\n",
      "\n",
      "\n"
     ]
    }
   ],
   "source": [
    "# Use this cell for your explorations.\n",
    "q3d_answer = r\"\"\"\n",
    "\n",
    "\n",
    "94545 - Union City, J & J Vending, a family owned and operated business that provides pantry, office coffee, micro market & vending services to the SF Bay Area\n",
    "\n",
    "94602 - San Francisco, ORBIT ROOM, a Laid-back Market Street locale serving clever handcrafted cocktails to an eclectic crowd.\n",
    "\n",
    "94609 - Oakland, None\n",
    "\n",
    "\"\"\"\n",
    "\n",
    "\n",
    "print(q3d_answer)"
   ]
  },
  {
   "cell_type": "markdown",
   "metadata": {
    "deletable": false,
    "editable": false,
    "nbgrader": {
     "cell_type": "markdown",
     "checksum": "7c1fee389d6bfed48a03a9f1b04dd626",
     "grade": false,
     "grade_id": "q3e",
     "locked": true,
     "schema_version": 2,
     "solution": false
    }
   },
   "source": [
    "#### Question 3e\n",
    "\n",
    "Often want to clean the data to improve our analysis. This cleaning might include changing values for a variable or dropping records.\n",
    "\n",
    "Let's correct 94602 to the more likely value based on your analysis.  Let's modify the derived field `zip_code` using `bus['zip_code'].str.replace` to replace 94602 with the correct value."
   ]
  },
  {
   "cell_type": "code",
   "execution_count": 40,
   "metadata": {
    "deletable": false,
    "nbgrader": {
     "cell_type": "code",
     "checksum": "047e21a616244e5ef9f92d5a91b51b8b",
     "grade": false,
     "grade_id": "q4e-answer",
     "locked": false,
     "schema_version": 2,
     "solution": true
    },
    "tags": [
     "solution"
    ]
   },
   "outputs": [],
   "source": [
    "bus['zip_code'] = bus[\"zip_code\"].str.replace('94545', \"94587\")\n",
    "bus[\"zip_code\"] = bus[\"zip_code\"].str.replace(\"94545\",\"94102\")\n",
    "\n"
   ]
  },
  {
   "cell_type": "code",
   "execution_count": 41,
   "metadata": {
    "deletable": false,
    "editable": false,
    "nbgrader": {
     "cell_type": "code",
     "checksum": "d03c91b50fe5c7aad4cfc708dfadb437",
     "grade": true,
     "grade_id": "q3e-tests",
     "locked": true,
     "points": 1,
     "schema_version": 2,
     "solution": false
    }
   },
   "outputs": [],
   "source": [
    "assert \"94602\" not in bus['zip_code']"
   ]
  },
  {
   "cell_type": "markdown",
   "metadata": {
    "deletable": false,
    "editable": false,
    "nbgrader": {
     "cell_type": "markdown",
     "checksum": "86b1fe7c3e48e61e0cdb3a59123defc5",
     "grade": false,
     "grade_id": "q4a",
     "locked": true,
     "schema_version": 2,
     "solution": false
    }
   },
   "source": [
    "## Latitude and Longitude\n",
    "\n",
    "Another aspect of the data we want to consider is the prevalence of missing values. If many records have missing values then we might be concerned about whether the nonmissing values are represenative of the population.\n",
    "\n",
    "### Question 4\n",
    " \n",
    "Consider the longitude and latitude in the business DataFrame. \n",
    "\n",
    "#### Question 4a\n",
    "\n",
    "How many businesses are missing longitude and latitude values?"
   ]
  },
  {
   "cell_type": "code",
   "execution_count": 42,
   "metadata": {
    "deletable": false,
    "nbgrader": {
     "cell_type": "code",
     "checksum": "3ee1335794a8dcfcfa1d346078b5cf9c",
     "grade": false,
     "grade_id": "q4a-answer",
     "locked": false,
     "schema_version": 2,
     "solution": true
    },
    "tags": [
     "student"
    ]
   },
   "outputs": [],
   "source": [
    "missing_latlongs = len(bus[bus[\"longitude\"].isnull()])"
   ]
  },
  {
   "cell_type": "code",
   "execution_count": 43,
   "metadata": {
    "deletable": false,
    "editable": false,
    "nbgrader": {
     "cell_type": "code",
     "checksum": "6ffb02656d193ce773bdf29f0ae5e4f0",
     "grade": true,
     "grade_id": "q4a-tests",
     "locked": true,
     "points": 1,
     "schema_version": 2,
     "solution": false
    },
    "tags": [
     "solution"
    ]
   },
   "outputs": [],
   "source": [
    "assert missing_latlongs == sum(bus['longitude'].isnull())"
   ]
  },
  {
   "cell_type": "markdown",
   "metadata": {
    "deletable": false,
    "editable": false,
    "nbgrader": {
     "cell_type": "markdown",
     "checksum": "bebe5270a15ad0297232babec39e1e09",
     "grade": false,
     "grade_id": "annex-zip",
     "locked": true,
     "schema_version": 2,
     "solution": false
    }
   },
   "source": [
    "Do some zip codes have more than their fair share of missing lat/lon values?\n",
    "\n",
    "Let's reduce our comparison to just those zips that are in SF and that have many businesses. Below is a list of zip codes."
   ]
  },
  {
   "cell_type": "code",
   "execution_count": 44,
   "metadata": {
    "deletable": false,
    "editable": false,
    "nbgrader": {
     "cell_type": "code",
     "checksum": "085efc20de6f48c33d9d91df3833ae36",
     "grade": false,
     "grade_id": "annex-zip-codes",
     "locked": true,
     "schema_version": 2,
     "solution": false
    }
   },
   "outputs": [],
   "source": [
    "validZip = [\"94102\", \"94103\", \"94104\", \"94105\", \"94107\", \"94108\",\n",
    "            \"94109\", \"94110\", \"94111\", \"94112\", \"94114\", \"94115\",\n",
    "            \"94116\", \"94117\", \"94118\", \"94121\", \"94122\", \"94123\", \n",
    "            \"94124\", \"94127\", \"94131\", \"94132\", \"94133\", \"94134\"]"
   ]
  },
  {
   "cell_type": "markdown",
   "metadata": {
    "deletable": false,
    "editable": false,
    "nbgrader": {
     "cell_type": "markdown",
     "checksum": "ba664fd5bd6667a1b68f8779637041ac",
     "grade": false,
     "grade_id": "q4b",
     "locked": true,
     "schema_version": 2,
     "solution": false
    }
   },
   "source": [
    "#### Question 4b\n",
    "\n",
    "For these zip codes find the number of businesses in each zip code and the number without longitude values. Do any zip codes appear to have more than their 'fair share' of missing longitude? To answer this, you will want to compare the proportion of missing values for each zip code.\n",
    "\n",
    "Create a new dataframe of counts of the null and proportion of null values, storing the result in `bus_sf_latlong`. It should have 3 columns:\n",
    "\n",
    "1. `zip_code`: Contains the zip codes in the `validZip` variable above.\n",
    "2. `null_lon`: The number of missing values for the zip code.\n",
    "3. `not_null_lon`: The proportion of present values for the zip code."
   ]
  },
  {
   "cell_type": "code",
   "execution_count": 45,
   "metadata": {},
   "outputs": [
    {
     "ename": "NameError",
     "evalue": "name 'bus_sf' is not defined",
     "output_type": "error",
     "traceback": [
      "\u001b[0;31m---------------------------------------------------------------------------\u001b[0m",
      "\u001b[0;31mNameError\u001b[0m                                 Traceback (most recent call last)",
      "\u001b[0;32m<ipython-input-45-480d23971161>\u001b[0m in \u001b[0;36m<module>\u001b[0;34m()\u001b[0m\n\u001b[0;32m----> 1\u001b[0;31m \u001b[0mbus_sf\u001b[0m\u001b[0;34m.\u001b[0m\u001b[0mgroupby\u001b[0m\u001b[0;34m(\u001b[0m\u001b[0;34m\"zip_code\"\u001b[0m\u001b[0;34m)\u001b[0m\u001b[0;34m[\u001b[0m\u001b[0;34m\"business_id\"\u001b[0m\u001b[0;34m]\u001b[0m\u001b[0;34m.\u001b[0m\u001b[0mcount\u001b[0m\u001b[0;34m(\u001b[0m\u001b[0;34m)\u001b[0m\u001b[0;34m.\u001b[0m\u001b[0mtolist\u001b[0m\u001b[0;34m(\u001b[0m\u001b[0;34m)\u001b[0m\u001b[0;34m\u001b[0m\u001b[0m\n\u001b[0m",
      "\u001b[0;31mNameError\u001b[0m: name 'bus_sf' is not defined"
     ]
    }
   ],
   "source": [
    "bus_sf.groupby(\"zip_code\")[\"business_id\"].count().tolist()"
   ]
  },
  {
   "cell_type": "code",
   "execution_count": null,
   "metadata": {
    "deletable": false,
    "nbgrader": {
     "cell_type": "code",
     "checksum": "b6883725a754f0cbef8e359cbf111478",
     "grade": false,
     "grade_id": "q4b-answer",
     "locked": false,
     "schema_version": 2,
     "solution": true
    },
    "tags": [
     "student"
    ]
   },
   "outputs": [],
   "source": [
    "# You might want to filter the bus dataframe to contain only the validZip\n",
    "\n",
    "bus_sf = bus[bus[\"zip_code\"].isin(validZip)]\n",
    "\n",
    "new = bus_sf[bus_sf[\"longitude\"].isnull()].groupby(\"zip_code\")[['business_id']].count()\n",
    "\n",
    "\n",
    "zip_code = [new[\"business_id\"]]\n",
    "\n",
    "bus_sf.groupby(\"zip_code\")\n",
    "\n",
    "total_zip = bus_sf.groupby(\"zip_code\")[\"business_id\"].count().tolist()\n",
    "\n",
    "not_null_lon_1 = bus_sf[bus_sf[\"longitude\"].notnull()].groupby(\"zip_code\")[['business_id']].count()\n",
    "\n",
    "\n",
    "\n",
    "# Create a new dataframe of counts of the null and proportion of null values\n",
    "bus_sf_latlong = pd.DataFrame(columns = [\"zip_code\", \"null_lon\", \"not_null_lon\"])\n",
    "\n",
    "bus_sf_latlong[\"zip_code\"] = validZip\n",
    "bus_sf_latlong[\"null_lon\"] = new[\"business_id\"].tolist()\n",
    "bus_sf_latlong[\"not_null_lon\"] = not_null_lon_1[\"business_id\"].tolist()\n",
    "\n",
    "bus_sf_latlong"
   ]
  },
  {
   "cell_type": "markdown",
   "metadata": {
    "deletable": false,
    "editable": false,
    "nbgrader": {
     "cell_type": "markdown",
     "checksum": "070f9b3dcf8f152e0234ed4834f13952",
     "grade": false,
     "grade_id": "do-not-edit-5",
     "locked": true,
     "schema_version": 2,
     "solution": false
    }
   },
   "source": [
    "Do not edit the empty cell below."
   ]
  },
  {
   "cell_type": "code",
   "execution_count": null,
   "metadata": {
    "deletable": false,
    "editable": false,
    "nbgrader": {
     "cell_type": "code",
     "checksum": "584d19ed9359a5786a9c3b774e533371",
     "grade": true,
     "grade_id": "q4b-tests",
     "locked": true,
     "points": 1,
     "schema_version": 2,
     "solution": false
    },
    "tags": [
     "solution"
    ]
   },
   "outputs": [],
   "source": []
  },
  {
   "cell_type": "markdown",
   "metadata": {
    "deletable": false,
    "editable": false,
    "nbgrader": {
     "cell_type": "markdown",
     "checksum": "9af99cf6ca8e529c24758ff33b7ace22",
     "grade": false,
     "grade_id": "summary-business",
     "locked": true,
     "schema_version": 2,
     "solution": false
    }
   },
   "source": [
    "## Summary of the business data\n",
    "\n",
    "Before we move on to explore the other data, let's take stock of what we have learned and the implications of our findings on future analysis. \n",
    "\n",
    "* We found that the business id is unique across records and so we may be able to use it as a key in joining tables. \n",
    "* We also found that there are some bad values in zip code. As a result, we may want to drop the records with zip codes outside of San Francisco or to treat them differently. For some of the bad values, we may want to take the time to look up the restaurant address online and fix these errors.   \n",
    "* We also found that there are many missing values in latitude and longitude. These may have implications on map making and geographic patterns if the missingness is related to location or restaurant score."
   ]
  },
  {
   "cell_type": "markdown",
   "metadata": {
    "deletable": false,
    "editable": false,
    "nbgrader": {
     "cell_type": "markdown",
     "checksum": "8423da23e76ab14161e3e39a51fd1d50",
     "grade": false,
     "grade_id": "q5a",
     "locked": true,
     "schema_version": 2,
     "solution": false
    }
   },
   "source": [
    "# Investigate the inspection data\n",
    "\n",
    "Let's now turn to the inspection DataFrame. Earlier, we found that `ins` has 4 columns, these are named `business_id`, `score`, `date` and `type`.  In this section, we determine the granularity of `ins` and investigate the kinds of information provided for the inspections. \n",
    "\n",
    "### Question 5\n",
    "\n",
    "#### Question 5a\n",
    "As with the business data, assess whether there is one inspection record for each business. "
   ]
  },
  {
   "cell_type": "code",
   "execution_count": 46,
   "metadata": {
    "deletable": false,
    "nbgrader": {
     "cell_type": "code",
     "checksum": "38465676ea17ff2fa0a84a4b369df067",
     "grade": false,
     "grade_id": "q5a-answer",
     "locked": false,
     "schema_version": 2,
     "solution": true
    },
    "tags": [
     "student"
    ]
   },
   "outputs": [],
   "source": [
    "# The number of rows in ins\n",
    "rows_in_table = len(ins)\n",
    "\n",
    "# The number of unique IDs in ins.\n",
    "unique_ins_ids = len(ins[\"business_id\"].unique())\n",
    "\n",
    "# What does this tell you?"
   ]
  },
  {
   "cell_type": "code",
   "execution_count": 47,
   "metadata": {
    "deletable": false,
    "editable": false,
    "nbgrader": {
     "cell_type": "code",
     "checksum": "0941b3e7599568697f40f6b843b174b8",
     "grade": true,
     "grade_id": "q5a-tests",
     "locked": true,
     "points": 1,
     "schema_version": 2,
     "solution": false
    }
   },
   "outputs": [],
   "source": [
    "assert rows_in_table  == ins.shape[0]\n",
    "assert unique_ins_ids == len(ins['business_id'].unique())"
   ]
  },
  {
   "cell_type": "markdown",
   "metadata": {
    "deletable": false,
    "editable": false,
    "nbgrader": {
     "cell_type": "markdown",
     "checksum": "fca91835274675980142f70b5724f85f",
     "grade": false,
     "grade_id": "q5b",
     "locked": true,
     "schema_version": 2,
     "solution": false
    }
   },
   "source": [
    "#### Question 5b\n",
    "\n",
    "Next, we examine the `type` variable. From examining the first few rows of `ins`, we see that `type` is a string and one of the values in the string is 'routine', presumably for a routine inspection. What values does `type` take on? How many occurrences of each value is in the DataFrame? What are the implications for further analysis?"
   ]
  },
  {
   "cell_type": "code",
   "execution_count": 48,
   "metadata": {},
   "outputs": [
    {
     "data": {
      "text/html": [
       "<div>\n",
       "<style scoped>\n",
       "    .dataframe tbody tr th:only-of-type {\n",
       "        vertical-align: middle;\n",
       "    }\n",
       "\n",
       "    .dataframe tbody tr th {\n",
       "        vertical-align: top;\n",
       "    }\n",
       "\n",
       "    .dataframe thead th {\n",
       "        text-align: right;\n",
       "    }\n",
       "</style>\n",
       "<table border=\"1\" class=\"dataframe\">\n",
       "  <thead>\n",
       "    <tr style=\"text-align: right;\">\n",
       "      <th></th>\n",
       "      <th>business_id</th>\n",
       "      <th>score</th>\n",
       "      <th>date</th>\n",
       "    </tr>\n",
       "    <tr>\n",
       "      <th>type</th>\n",
       "      <th></th>\n",
       "      <th></th>\n",
       "      <th></th>\n",
       "    </tr>\n",
       "  </thead>\n",
       "  <tbody>\n",
       "    <tr>\n",
       "      <th>complaint</th>\n",
       "      <td>1</td>\n",
       "      <td>1</td>\n",
       "      <td>1</td>\n",
       "    </tr>\n",
       "    <tr>\n",
       "      <th>routine</th>\n",
       "      <td>14221</td>\n",
       "      <td>14221</td>\n",
       "      <td>14221</td>\n",
       "    </tr>\n",
       "  </tbody>\n",
       "</table>\n",
       "</div>"
      ],
      "text/plain": [
       "           business_id  score   date\n",
       "type                                \n",
       "complaint            1      1      1\n",
       "routine          14221  14221  14221"
      ]
     },
     "execution_count": 48,
     "metadata": {},
     "output_type": "execute_result"
    }
   ],
   "source": [
    "ins.groupby(\"type\").count()"
   ]
  },
  {
   "cell_type": "code",
   "execution_count": 49,
   "metadata": {
    "deletable": false,
    "nbgrader": {
     "cell_type": "code",
     "checksum": "e9368907ad62ba57f514f53809162c95",
     "grade": true,
     "grade_id": "q5b-answer",
     "locked": false,
     "points": 1,
     "schema_version": 2,
     "solution": true
    },
    "tags": [
     "student",
     "written"
    ]
   },
   "outputs": [
    {
     "name": "stdout",
     "output_type": "stream",
     "text": [
      "\n",
      "\n",
      "Type takes on two values: 'routine' and 'complaint'. There are 14221 occurrences of routine and only 1 occurence of \n",
      "\n",
      "complaint in the DataFrame. This implies that most of the inspections are done as a part of the routine, with only \n",
      "\n",
      "one due to the complaint of customers. \n",
      "\n",
      "\n"
     ]
    }
   ],
   "source": [
    "q5b_answer = r\"\"\"\n",
    "\n",
    "Type takes on two values: 'routine' and 'complaint'. There are 14221 occurrences of routine and only 1 occurence of \n",
    "\n",
    "complaint in the DataFrame. This implies that most of the inspections are done as a part of the routine, with only \n",
    "\n",
    "one due to the complaint of customers. \n",
    "\n",
    "\"\"\"\n",
    "\n",
    "print(q5b_answer)"
   ]
  },
  {
   "cell_type": "markdown",
   "metadata": {
    "deletable": false,
    "editable": false,
    "nbgrader": {
     "cell_type": "markdown",
     "checksum": "d9fc1e12a232ba4aa6c2e8364ca28bb1",
     "grade": false,
     "grade_id": "q5c",
     "locked": true,
     "schema_version": 2,
     "solution": false
    }
   },
   "source": [
    "#### Question 5c\n",
    "\n",
    "Since the data was stored in a .csv file, the dates are formatted as strings such as `20160503`. Once we read in the data, we would like to have dates in an appropriate format for analsysis. Add a new column called `new_date` which formats the `date` into a datetime object. Then add a column called `year` with only the year.\n",
    "\n",
    "*Hint: You'll want to use the `pd.datetime` functionality at some point.*"
   ]
  },
  {
   "cell_type": "code",
   "execution_count": 50,
   "metadata": {
    "deletable": false,
    "nbgrader": {
     "cell_type": "code",
     "checksum": "dea90432af952177404cbe4d876f6d80",
     "grade": false,
     "grade_id": "q5c-answer",
     "locked": false,
     "schema_version": 2,
     "solution": true
    },
    "tags": [
     "student"
    ]
   },
   "outputs": [],
   "source": [
    "ins['new_date'] = pd.to_datetime(ins['date'], format='%Y%m%d')\n",
    "ins['year'] = ins['new_date'].dt.year.tolist()"
   ]
  },
  {
   "cell_type": "code",
   "execution_count": 51,
   "metadata": {
    "deletable": false,
    "editable": false,
    "nbgrader": {
     "cell_type": "code",
     "checksum": "62e18a61820dc87a4d40cdadb15349c6",
     "grade": true,
     "grade_id": "q5c-tests",
     "locked": true,
     "points": 1,
     "schema_version": 2,
     "solution": false
    }
   },
   "outputs": [],
   "source": [
    "assert ins['new_date'].equals(ins['date'].apply(lambda d: pd.datetime.strptime(str(d),'%Y%m%d')))\n",
    "assert ins['year'].equals(ins['new_date'].apply(lambda d: d.year))"
   ]
  },
  {
   "cell_type": "markdown",
   "metadata": {
    "deletable": false,
    "editable": false,
    "nbgrader": {
     "cell_type": "markdown",
     "checksum": "9f9bc6226f5e8efa82520c8a031208ca",
     "grade": false,
     "grade_id": "q5d",
     "locked": true,
     "schema_version": 2,
     "solution": false
    },
    "tags": [
     "written"
    ]
   },
   "source": [
    "#### Question 5d\n",
    "\n",
    "What range of years is covered in this data set? Are there roughly same number of inspections each year?"
   ]
  },
  {
   "cell_type": "code",
   "execution_count": 52,
   "metadata": {},
   "outputs": [
    {
     "data": {
      "text/html": [
       "<div>\n",
       "<style scoped>\n",
       "    .dataframe tbody tr th:only-of-type {\n",
       "        vertical-align: middle;\n",
       "    }\n",
       "\n",
       "    .dataframe tbody tr th {\n",
       "        vertical-align: top;\n",
       "    }\n",
       "\n",
       "    .dataframe thead th {\n",
       "        text-align: right;\n",
       "    }\n",
       "</style>\n",
       "<table border=\"1\" class=\"dataframe\">\n",
       "  <thead>\n",
       "    <tr style=\"text-align: right;\">\n",
       "      <th></th>\n",
       "      <th>business_id</th>\n",
       "      <th>score</th>\n",
       "      <th>date</th>\n",
       "      <th>type</th>\n",
       "      <th>new_date</th>\n",
       "    </tr>\n",
       "    <tr>\n",
       "      <th>year</th>\n",
       "      <th></th>\n",
       "      <th></th>\n",
       "      <th></th>\n",
       "      <th></th>\n",
       "      <th></th>\n",
       "    </tr>\n",
       "  </thead>\n",
       "  <tbody>\n",
       "    <tr>\n",
       "      <th>2015</th>\n",
       "      <td>3305</td>\n",
       "      <td>3305</td>\n",
       "      <td>3305</td>\n",
       "      <td>3305</td>\n",
       "      <td>3305</td>\n",
       "    </tr>\n",
       "    <tr>\n",
       "      <th>2016</th>\n",
       "      <td>5443</td>\n",
       "      <td>5443</td>\n",
       "      <td>5443</td>\n",
       "      <td>5443</td>\n",
       "      <td>5443</td>\n",
       "    </tr>\n",
       "    <tr>\n",
       "      <th>2017</th>\n",
       "      <td>5166</td>\n",
       "      <td>5166</td>\n",
       "      <td>5166</td>\n",
       "      <td>5166</td>\n",
       "      <td>5166</td>\n",
       "    </tr>\n",
       "    <tr>\n",
       "      <th>2018</th>\n",
       "      <td>308</td>\n",
       "      <td>308</td>\n",
       "      <td>308</td>\n",
       "      <td>308</td>\n",
       "      <td>308</td>\n",
       "    </tr>\n",
       "  </tbody>\n",
       "</table>\n",
       "</div>"
      ],
      "text/plain": [
       "      business_id  score  date  type  new_date\n",
       "year                                          \n",
       "2015         3305   3305  3305  3305      3305\n",
       "2016         5443   5443  5443  5443      5443\n",
       "2017         5166   5166  5166  5166      5166\n",
       "2018          308    308   308   308       308"
      ]
     },
     "execution_count": 52,
     "metadata": {},
     "output_type": "execute_result"
    }
   ],
   "source": [
    "ins.groupby(\"year\").count()"
   ]
  },
  {
   "cell_type": "code",
   "execution_count": 53,
   "metadata": {
    "deletable": false,
    "nbgrader": {
     "cell_type": "code",
     "checksum": "61d139bb290978a35a3774047bc04bad",
     "grade": true,
     "grade_id": "q5d-answer",
     "locked": false,
     "points": 1,
     "schema_version": 2,
     "solution": true
    },
    "tags": [
     "student",
     "written"
    ]
   },
   "outputs": [
    {
     "name": "stdout",
     "output_type": "stream",
     "text": [
      "\n",
      "\n",
      "The range of years is from 2015 to 2018. Only 2016 and 2017 have roughly the same number of inspections - around 5000 \n",
      "\n",
      "2015 has only 3305 inspections and the ongoing 2018 has 308 so far. \n",
      "\n",
      "\n"
     ]
    }
   ],
   "source": [
    "q5d_answer = r\"\"\"\n",
    "\n",
    "The range of years is from 2015 to 2018. Only 2016 and 2017 have roughly the same number of inspections - around 5000 \n",
    "\n",
    "2015 has only 3305 inspections and the ongoing 2018 has 308 so far. \n",
    "\n",
    "\"\"\"\n",
    "\n",
    "\n",
    "print(q5d_answer)"
   ]
  },
  {
   "cell_type": "markdown",
   "metadata": {
    "deletable": false,
    "editable": false,
    "nbgrader": {
     "cell_type": "markdown",
     "checksum": "092a58c248a308d7e48cbdebc0489fa0",
     "grade": false,
     "grade_id": "inspections-focus",
     "locked": true,
     "schema_version": 2,
     "solution": false
    }
   },
   "source": [
    "Let's examine only the inspections for one year, 2016. This puts businesses on a more equal footing because [inspection guidelines](https://www.sfdph.org/dph/eh/Food/Inspections.asp) generally refer to how many inspections should occur in a given year."
   ]
  },
  {
   "cell_type": "code",
   "execution_count": 54,
   "metadata": {
    "deletable": false,
    "editable": false,
    "nbgrader": {
     "cell_type": "code",
     "checksum": "986335f7f349086fce7e9e91ec578e99",
     "grade": false,
     "grade_id": "inspections-focus-code",
     "locked": true,
     "schema_version": 2,
     "solution": false
    }
   },
   "outputs": [],
   "source": [
    "ins2016 = ins[ins['year'] == 2016]"
   ]
  },
  {
   "cell_type": "markdown",
   "metadata": {
    "deletable": false,
    "editable": false,
    "nbgrader": {
     "cell_type": "markdown",
     "checksum": "ba14f6c338586ecbdc927e35a3e6c8a7",
     "grade": false,
     "grade_id": "q6a",
     "locked": true,
     "schema_version": 2,
     "solution": false
    }
   },
   "source": [
    "## Explore inspection score\n",
    "\n",
    "### Question 6\n",
    "\n",
    "#### Question 6a\n",
    "What does the distribution of inspection score for 2016 look like? The inspection scores appear to be integer values. The discreteness of this variable means that we can use a barplot to visualize the distribution of the inspection score. Find the counts of the number of inspections in 2016 for each score. Then, make a bar plot of these counts."
   ]
  },
  {
   "cell_type": "code",
   "execution_count": 55,
   "metadata": {
    "deletable": false,
    "nbgrader": {
     "cell_type": "code",
     "checksum": "7c0f33df71386a198af78cdd928ac7e8",
     "grade": true,
     "grade_id": "q6a-answer",
     "locked": false,
     "points": 1,
     "schema_version": 2,
     "solution": true
    },
    "tags": [
     "student"
    ]
   },
   "outputs": [
    {
     "data": {
      "image/png": "[encoded data removed]",
      "text/plain": [
       "<matplotlib.figure.Figure at 0x1a1857fa20>"
      ]
     },
     "metadata": {},
     "output_type": "display_data"
    }
   ],
   "source": [
    "scoreCts = ins[ins['year'] == 2016].groupby('score').count().plot(kind = \"bar\", figsize = (10,8))\n",
    "\n",
    "plt.show()"
   ]
  },
  {
   "cell_type": "markdown",
   "metadata": {
    "deletable": false,
    "editable": false,
    "nbgrader": {
     "cell_type": "markdown",
     "checksum": "88a081959de60b997c4eb02273329edd",
     "grade": false,
     "grade_id": "q6b",
     "locked": true,
     "schema_version": 2,
     "solution": false
    },
    "tags": [
     "written"
    ]
   },
   "source": [
    "#### Question 6b\n",
    "\n",
    "Describe the qualities of the distribution of the inspections scores. Consider the mode(s), symmetry, tails, gaps, and anamolous values. Are there any unusual features of this distribution? What do your observation imply about the scores?"
   ]
  },
  {
   "cell_type": "code",
   "execution_count": 56,
   "metadata": {
    "deletable": false,
    "nbgrader": {
     "cell_type": "code",
     "checksum": "9f8432bd30a635082e9c6b67611622dd",
     "grade": true,
     "grade_id": "q6b-answer",
     "locked": false,
     "points": 1,
     "schema_version": 2,
     "solution": true
    },
    "tags": [
     "student",
     "written"
    ]
   },
   "outputs": [
    {
     "name": "stdout",
     "output_type": "stream",
     "text": [
      "\n",
      "\n",
      "The distribution of the inspection scores is skewed to the left. The mode is '100', meaning that 775 restaurants scored \n",
      "\n",
      "100 in 2016's inspection. Something unusual about this distribution is that there is a great fluctuation between score \n",
      "\n",
      "89 and 98, which seams really inconsistent with the overall trend.\n",
      "\n",
      "\n"
     ]
    }
   ],
   "source": [
    "q6b_answer = r\"\"\"\n",
    "\n",
    "The distribution of the inspection scores is skewed to the left. The mode is '100', meaning that 775 restaurants scored \n",
    "\n",
    "100 in 2016's inspection. Something unusual about this distribution is that there is a great fluctuation between score \n",
    "\n",
    "89 and 98, which seams really inconsistent with the overall trend.\n",
    "\n",
    "\"\"\"\n",
    "\n",
    "print(q6b_answer)"
   ]
  },
  {
   "cell_type": "markdown",
   "metadata": {
    "deletable": false,
    "editable": false,
    "nbgrader": {
     "cell_type": "markdown",
     "checksum": "f275d63c4fa6d93913c301d6aca0cc8a",
     "grade": false,
     "grade_id": "q6c",
     "locked": true,
     "schema_version": 2,
     "solution": false
    }
   },
   "source": [
    "#### Question 6c\n",
    "\n",
    "In assessing the granularity, we want to determine if there is one inspection per business per year. How many restaurants had two inspections? Three or more inspections? Create a dict mapping the number of inspections to the number of business ids with that many inspections.\n",
    "\n",
    "*Hint: pandas Series have a to_dict() method.*"
   ]
  },
  {
   "cell_type": "code",
   "execution_count": 57,
   "metadata": {
    "deletable": false,
    "nbgrader": {
     "cell_type": "code",
     "checksum": "526c6d52deda454ab727f8214278ce76",
     "grade": false,
     "grade_id": "q6c-answer",
     "locked": false,
     "schema_version": 2,
     "solution": true
    },
    "tags": [
     "student"
    ]
   },
   "outputs": [
    {
     "data": {
      "text/plain": [
       "{'score': {24: 2,\n",
       "  45: 2,\n",
       "  66: 2,\n",
       "  67: 2,\n",
       "  76: 2,\n",
       "  77: 2,\n",
       "  146: 2,\n",
       "  180: 3,\n",
       "  217: 2,\n",
       "  247: 2,\n",
       "  253: 2,\n",
       "  286: 2,\n",
       "  298: 2,\n",
       "  323: 2,\n",
       "  328: 2,\n",
       "  386: 2,\n",
       "  436: 2,\n",
       "  489: 3,\n",
       "  507: 2,\n",
       "  509: 2,\n",
       "  510: 2,\n",
       "  538: 2,\n",
       "  539: 2,\n",
       "  542: 2,\n",
       "  551: 2,\n",
       "  580: 2,\n",
       "  589: 2,\n",
       "  628: 2,\n",
       "  639: 2,\n",
       "  659: 2,\n",
       "  695: 2,\n",
       "  726: 2,\n",
       "  792: 2,\n",
       "  798: 2,\n",
       "  824: 2,\n",
       "  835: 2,\n",
       "  874: 2,\n",
       "  880: 2,\n",
       "  884: 2,\n",
       "  891: 2,\n",
       "  950: 2,\n",
       "  952: 2,\n",
       "  972: 2,\n",
       "  994: 2,\n",
       "  1002: 2,\n",
       "  1075: 2,\n",
       "  1081: 2,\n",
       "  1122: 2,\n",
       "  1144: 2,\n",
       "  1147: 2,\n",
       "  1154: 2,\n",
       "  1231: 2,\n",
       "  1241: 2,\n",
       "  1249: 2,\n",
       "  1296: 2,\n",
       "  1318: 2,\n",
       "  1337: 3,\n",
       "  1339: 2,\n",
       "  1381: 2,\n",
       "  1399: 2,\n",
       "  1426: 2,\n",
       "  1434: 2,\n",
       "  1438: 2,\n",
       "  1444: 2,\n",
       "  1469: 2,\n",
       "  1515: 3,\n",
       "  1516: 3,\n",
       "  1517: 3,\n",
       "  1544: 2,\n",
       "  1549: 2,\n",
       "  1566: 2,\n",
       "  1608: 2,\n",
       "  1631: 2,\n",
       "  1632: 2,\n",
       "  1641: 2,\n",
       "  1664: 2,\n",
       "  1674: 2,\n",
       "  1685: 2,\n",
       "  1703: 2,\n",
       "  1724: 2,\n",
       "  1727: 2,\n",
       "  1754: 2,\n",
       "  1757: 2,\n",
       "  1797: 2,\n",
       "  1811: 2,\n",
       "  1843: 2,\n",
       "  1865: 2,\n",
       "  1912: 2,\n",
       "  1922: 2,\n",
       "  1926: 2,\n",
       "  1930: 2,\n",
       "  1952: 2,\n",
       "  1954: 2,\n",
       "  1970: 2,\n",
       "  1972: 2,\n",
       "  1973: 2,\n",
       "  2002: 2,\n",
       "  2020: 2,\n",
       "  2027: 2,\n",
       "  2031: 2,\n",
       "  2032: 2,\n",
       "  2044: 2,\n",
       "  2066: 2,\n",
       "  2072: 2,\n",
       "  2077: 2,\n",
       "  2094: 2,\n",
       "  2134: 2,\n",
       "  2168: 2,\n",
       "  2223: 2,\n",
       "  2234: 2,\n",
       "  2292: 3,\n",
       "  2315: 2,\n",
       "  2334: 2,\n",
       "  2336: 2,\n",
       "  2337: 2,\n",
       "  2343: 2,\n",
       "  2352: 2,\n",
       "  2356: 2,\n",
       "  2357: 2,\n",
       "  2418: 2,\n",
       "  2420: 3,\n",
       "  2421: 2,\n",
       "  2427: 2,\n",
       "  2428: 2,\n",
       "  2433: 2,\n",
       "  2454: 2,\n",
       "  2455: 2,\n",
       "  2519: 2,\n",
       "  2578: 2,\n",
       "  2610: 2,\n",
       "  2632: 2,\n",
       "  2638: 2,\n",
       "  2684: 2,\n",
       "  2689: 2,\n",
       "  2690: 2,\n",
       "  2692: 2,\n",
       "  2716: 2,\n",
       "  2749: 3,\n",
       "  2755: 2,\n",
       "  2766: 2,\n",
       "  2797: 2,\n",
       "  2798: 2,\n",
       "  2807: 2,\n",
       "  2836: 2,\n",
       "  2840: 2,\n",
       "  2841: 2,\n",
       "  2854: 2,\n",
       "  2861: 3,\n",
       "  2869: 2,\n",
       "  2917: 2,\n",
       "  2919: 2,\n",
       "  2932: 2,\n",
       "  2933: 2,\n",
       "  2934: 2,\n",
       "  2943: 2,\n",
       "  2952: 2,\n",
       "  2974: 2,\n",
       "  2980: 2,\n",
       "  3016: 2,\n",
       "  3025: 2,\n",
       "  3029: 2,\n",
       "  3031: 2,\n",
       "  3048: 2,\n",
       "  3114: 2,\n",
       "  3115: 2,\n",
       "  3160: 2,\n",
       "  3161: 2,\n",
       "  3167: 2,\n",
       "  3186: 2,\n",
       "  3211: 2,\n",
       "  3237: 2,\n",
       "  3241: 2,\n",
       "  3248: 2,\n",
       "  3253: 2,\n",
       "  3260: 2,\n",
       "  3265: 2,\n",
       "  3285: 2,\n",
       "  3304: 2,\n",
       "  3309: 2,\n",
       "  3325: 2,\n",
       "  3335: 2,\n",
       "  3350: 2,\n",
       "  3394: 2,\n",
       "  3428: 2,\n",
       "  3429: 2,\n",
       "  3439: 2,\n",
       "  3478: 2,\n",
       "  3522: 2,\n",
       "  3614: 2,\n",
       "  3661: 2,\n",
       "  3674: 2,\n",
       "  3676: 2,\n",
       "  3693: 2,\n",
       "  3769: 2,\n",
       "  3817: 2,\n",
       "  3839: 2,\n",
       "  3861: 2,\n",
       "  3869: 2,\n",
       "  3870: 2,\n",
       "  3895: 2,\n",
       "  3926: 2,\n",
       "  3948: 2,\n",
       "  4158: 2,\n",
       "  4184: 2,\n",
       "  4421: 2,\n",
       "  4425: 2,\n",
       "  4449: 3,\n",
       "  4475: 2,\n",
       "  4480: 2,\n",
       "  4483: 2,\n",
       "  4502: 2,\n",
       "  4519: 2,\n",
       "  4538: 2,\n",
       "  4548: 2,\n",
       "  4584: 2,\n",
       "  4586: 2,\n",
       "  4590: 2,\n",
       "  4614: 2,\n",
       "  4622: 2,\n",
       "  4636: 2,\n",
       "  4656: 2,\n",
       "  4665: 2,\n",
       "  4670: 2,\n",
       "  4672: 2,\n",
       "  4678: 2,\n",
       "  4681: 2,\n",
       "  4683: 2,\n",
       "  4685: 2,\n",
       "  4688: 2,\n",
       "  4702: 2,\n",
       "  4732: 2,\n",
       "  4753: 2,\n",
       "  4755: 2,\n",
       "  4762: 2,\n",
       "  4797: 2,\n",
       "  4800: 2,\n",
       "  4801: 2,\n",
       "  4804: 2,\n",
       "  4806: 2,\n",
       "  4837: 2,\n",
       "  4850: 2,\n",
       "  4864: 2,\n",
       "  4920: 2,\n",
       "  4922: 2,\n",
       "  4935: 2,\n",
       "  4944: 2,\n",
       "  4952: 2,\n",
       "  4959: 2,\n",
       "  4960: 2,\n",
       "  4986: 2,\n",
       "  4999: 2,\n",
       "  5006: 2,\n",
       "  5010: 2,\n",
       "  5011: 2,\n",
       "  5025: 2,\n",
       "  5032: 2,\n",
       "  5090: 2,\n",
       "  5091: 2,\n",
       "  5118: 2,\n",
       "  5448: 2,\n",
       "  5450: 2,\n",
       "  5455: 3,\n",
       "  5457: 3,\n",
       "  5459: 3,\n",
       "  5460: 2,\n",
       "  5461: 3,\n",
       "  5463: 2,\n",
       "  5464: 2,\n",
       "  5467: 2,\n",
       "  5470: 3,\n",
       "  5471: 3,\n",
       "  5477: 3,\n",
       "  5478: 3,\n",
       "  5479: 3,\n",
       "  5486: 2,\n",
       "  5487: 3,\n",
       "  5488: 3,\n",
       "  5493: 3,\n",
       "  5494: 2,\n",
       "  5495: 3,\n",
       "  5496: 2,\n",
       "  5497: 3,\n",
       "  5499: 3,\n",
       "  5500: 2,\n",
       "  5501: 2,\n",
       "  5502: 3,\n",
       "  5504: 2,\n",
       "  5522: 3,\n",
       "  5524: 3,\n",
       "  5617: 2,\n",
       "  5618: 3,\n",
       "  5621: 2,\n",
       "  5622: 3,\n",
       "  5623: 3,\n",
       "  5624: 3,\n",
       "  5626: 3,\n",
       "  5628: 3,\n",
       "  5629: 3,\n",
       "  5630: 3,\n",
       "  5631: 3,\n",
       "  5632: 2,\n",
       "  5633: 3,\n",
       "  5634: 3,\n",
       "  5635: 2,\n",
       "  5639: 2,\n",
       "  5640: 2,\n",
       "  5641: 2,\n",
       "  5643: 3,\n",
       "  5644: 3,\n",
       "  5645: 3,\n",
       "  5646: 2,\n",
       "  5647: 2,\n",
       "  5648: 2,\n",
       "  5649: 3,\n",
       "  5650: 2,\n",
       "  5651: 3,\n",
       "  5653: 2,\n",
       "  5654: 2,\n",
       "  5787: 2,\n",
       "  5788: 2,\n",
       "  5789: 2,\n",
       "  5790: 2,\n",
       "  5791: 2,\n",
       "  5792: 2,\n",
       "  5794: 2,\n",
       "  5796: 2,\n",
       "  5797: 2,\n",
       "  5799: 2,\n",
       "  5801: 2,\n",
       "  5802: 2,\n",
       "  5804: 2,\n",
       "  5805: 2,\n",
       "  5807: 2,\n",
       "  5808: 2,\n",
       "  5810: 2,\n",
       "  5811: 2,\n",
       "  5812: 2,\n",
       "  5813: 2,\n",
       "  5814: 2,\n",
       "  5815: 2,\n",
       "  5816: 2,\n",
       "  5817: 2,\n",
       "  5818: 2,\n",
       "  5819: 2,\n",
       "  5820: 2,\n",
       "  5821: 2,\n",
       "  5824: 2,\n",
       "  5825: 2,\n",
       "  5827: 2,\n",
       "  5828: 2,\n",
       "  5829: 2,\n",
       "  5831: 2,\n",
       "  5833: 2,\n",
       "  5834: 2,\n",
       "  5835: 2,\n",
       "  5837: 2,\n",
       "  5838: 2,\n",
       "  5839: 2,\n",
       "  5841: 2,\n",
       "  5843: 2,\n",
       "  5844: 2,\n",
       "  5847: 2,\n",
       "  5849: 2,\n",
       "  5851: 2,\n",
       "  5852: 2,\n",
       "  5853: 2,\n",
       "  5854: 2,\n",
       "  5855: 2,\n",
       "  5856: 2,\n",
       "  5858: 2,\n",
       "  5859: 2,\n",
       "  5860: 2,\n",
       "  5862: 2,\n",
       "  5864: 2,\n",
       "  5865: 2,\n",
       "  5867: 2,\n",
       "  5868: 2,\n",
       "  5869: 2,\n",
       "  5871: 2,\n",
       "  5872: 2,\n",
       "  5874: 2,\n",
       "  5875: 2,\n",
       "  5876: 2,\n",
       "  5877: 2,\n",
       "  5878: 2,\n",
       "  5880: 2,\n",
       "  5881: 2,\n",
       "  5883: 2,\n",
       "  5884: 2,\n",
       "  5885: 2,\n",
       "  5888: 2,\n",
       "  5889: 2,\n",
       "  5892: 2,\n",
       "  5893: 2,\n",
       "  5894: 2,\n",
       "  5897: 2,\n",
       "  5898: 2,\n",
       "  5899: 2,\n",
       "  5901: 2,\n",
       "  5902: 3,\n",
       "  5903: 2,\n",
       "  5904: 2,\n",
       "  5905: 2,\n",
       "  5907: 2,\n",
       "  5908: 2,\n",
       "  5913: 2,\n",
       "  5919: 2,\n",
       "  5925: 2,\n",
       "  5926: 2,\n",
       "  5927: 2,\n",
       "  5938: 2,\n",
       "  5940: 2,\n",
       "  5946: 2,\n",
       "  5950: 2,\n",
       "  5951: 2,\n",
       "  5952: 2,\n",
       "  5953: 2,\n",
       "  5955: 2,\n",
       "  5958: 2,\n",
       "  5959: 2,\n",
       "  5960: 2,\n",
       "  5961: 2,\n",
       "  5962: 2,\n",
       "  5963: 2,\n",
       "  5966: 2,\n",
       "  5976: 2,\n",
       "  5997: 2,\n",
       "  5998: 2,\n",
       "  6010: 2,\n",
       "  6025: 2,\n",
       "  6432: 2,\n",
       "  6583: 2,\n",
       "  6625: 2,\n",
       "  6729: 2,\n",
       "  6739: 2,\n",
       "  6756: 2,\n",
       "  6800: 2,\n",
       "  6802: 2,\n",
       "  6863: 2,\n",
       "  6864: 2,\n",
       "  6962: 2,\n",
       "  6965: 2,\n",
       "  6966: 2,\n",
       "  7055: 2,\n",
       "  7214: 2,\n",
       "  7243: 2,\n",
       "  7275: 2,\n",
       "  7379: 2,\n",
       "  7449: 2,\n",
       "  7450: 2,\n",
       "  7479: 2,\n",
       "  7482: 2,\n",
       "  7493: 2,\n",
       "  7538: 2,\n",
       "  7555: 2,\n",
       "  7605: 2,\n",
       "  7640: 2,\n",
       "  7645: 2,\n",
       "  7646: 2,\n",
       "  7649: 2,\n",
       "  7663: 2,\n",
       "  7664: 2,\n",
       "  7689: 2,\n",
       "  7738: 2,\n",
       "  7744: 2,\n",
       "  7745: 2,\n",
       "  7747: 2,\n",
       "  7771: 2,\n",
       "  7772: 3,\n",
       "  7779: 2,\n",
       "  7786: 2,\n",
       "  8882: 3,\n",
       "  8948: 2,\n",
       "  9208: 2,\n",
       "  9232: 2,\n",
       "  9358: 2,\n",
       "  10030: 2,\n",
       "  10332: 2,\n",
       "  10376: 2,\n",
       "  10377: 3,\n",
       "  10886: 2,\n",
       "  10990: 2,\n",
       "  11079: 2,\n",
       "  11487: 2,\n",
       "  11488: 2,\n",
       "  13062: 2,\n",
       "  13374: 2,\n",
       "  13426: 2,\n",
       "  13427: 2,\n",
       "  13814: 2,\n",
       "  14568: 2,\n",
       "  14740: 2,\n",
       "  14743: 2,\n",
       "  14971: 2,\n",
       "  15055: 2,\n",
       "  15535: 2,\n",
       "  15806: 2,\n",
       "  16349: 2,\n",
       "  16432: 2,\n",
       "  16441: 2,\n",
       "  17411: 2,\n",
       "  17570: 2,\n",
       "  17750: 2,\n",
       "  17779: 2,\n",
       "  18399: 2,\n",
       "  18480: 2,\n",
       "  18577: 2,\n",
       "  18767: 2,\n",
       "  18800: 2,\n",
       "  18815: 2,\n",
       "  18825: 2,\n",
       "  19002: 2,\n",
       "  19043: 2,\n",
       "  19055: 2,\n",
       "  19056: 2,\n",
       "  19057: 2,\n",
       "  19058: 2,\n",
       "  19131: 2,\n",
       "  19150: 2,\n",
       "  19171: 2,\n",
       "  19277: 2,\n",
       "  19403: 2,\n",
       "  19416: 2,\n",
       "  20116: 2,\n",
       "  20367: 2,\n",
       "  21807: 2,\n",
       "  21909: 2,\n",
       "  23704: 2,\n",
       "  24572: 2,\n",
       "  25167: 2,\n",
       "  26343: 2,\n",
       "  27053: 2,\n",
       "  27055: 2,\n",
       "  27377: 2,\n",
       "  27793: 2,\n",
       "  27799: 2,\n",
       "  28044: 2,\n",
       "  28169: 2,\n",
       "  28318: 2,\n",
       "  28976: 2,\n",
       "  29950: 2,\n",
       "  30001: 2,\n",
       "  30156: 2,\n",
       "  32170: 2,\n",
       "  32579: 2,\n",
       "  32733: 2,\n",
       "  32736: 2,\n",
       "  32738: 2,\n",
       "  32818: 2,\n",
       "  33145: 2,\n",
       "  33173: 2,\n",
       "  33198: 2,\n",
       "  33315: 2,\n",
       "  33386: 2,\n",
       "  33413: 2,\n",
       "  33442: 2,\n",
       "  33527: 2,\n",
       "  33700: 2,\n",
       "  33709: 2,\n",
       "  33710: 2,\n",
       "  33911: 2,\n",
       "  33914: 2,\n",
       "  33935: 2,\n",
       "  34033: 2,\n",
       "  34066: 2,\n",
       "  34144: 2,\n",
       "  34161: 2,\n",
       "  34201: 2,\n",
       "  34665: 2,\n",
       "  34708: 2,\n",
       "  34710: 2,\n",
       "  34865: 2,\n",
       "  35221: 2,\n",
       "  35340: 2,\n",
       "  35418: 2,\n",
       "  35464: 2,\n",
       "  35469: 2,\n",
       "  35507: 2,\n",
       "  35702: 2,\n",
       "  35852: 2,\n",
       "  35862: 2,\n",
       "  36024: 2,\n",
       "  36160: 2,\n",
       "  36208: 2,\n",
       "  36396: 2,\n",
       "  36473: 2,\n",
       "  36570: 2,\n",
       "  36685: 2,\n",
       "  36840: 2,\n",
       "  36850: 2,\n",
       "  37166: 2,\n",
       "  37167: 2,\n",
       "  37168: 2,\n",
       "  37169: 2,\n",
       "  37170: 2,\n",
       "  37171: 2,\n",
       "  37304: 2,\n",
       "  37389: 2,\n",
       "  37818: 2,\n",
       "  37820: 2,\n",
       "  38112: 2,\n",
       "  38126: 2,\n",
       "  38231: 2,\n",
       "  38330: 2,\n",
       "  38379: 2,\n",
       "  38423: 3,\n",
       "  38428: 2,\n",
       "  38565: 2,\n",
       "  38566: 2,\n",
       "  38580: 2,\n",
       "  38798: 2,\n",
       "  38808: 2,\n",
       "  38929: 3,\n",
       "  39031: 2,\n",
       "  39398: 2,\n",
       "  39482: 2,\n",
       "  39776: 2,\n",
       "  39810: 2,\n",
       "  39888: 2,\n",
       "  40144: 2,\n",
       "  40212: 2,\n",
       "  57552: 2,\n",
       "  57755: 2,\n",
       "  58573: 2,\n",
       "  58628: 2,\n",
       "  58673: 2,\n",
       "  59153: 2,\n",
       "  59178: 2,\n",
       "  59372: 2,\n",
       "  59397: 3,\n",
       "  59407: 2,\n",
       "  59574: 2,\n",
       "  59577: 2,\n",
       "  59599: 2,\n",
       "  59727: 3,\n",
       "  59828: 2,\n",
       "  59935: 2,\n",
       "  59949: 2,\n",
       "  60210: 3,\n",
       "  60254: 2,\n",
       "  60354: 2,\n",
       "  60380: 2,\n",
       "  60544: 2,\n",
       "  60616: 2,\n",
       "  60649: 2,\n",
       "  60933: 2,\n",
       "  61056: 2,\n",
       "  61093: 2,\n",
       "  61109: 2,\n",
       "  61285: 2,\n",
       "  61391: 2,\n",
       "  61467: 2,\n",
       "  61493: 2,\n",
       "  61789: 2,\n",
       "  61806: 2,\n",
       "  61915: 2,\n",
       "  62010: 2,\n",
       "  62064: 2,\n",
       "  62532: 2,\n",
       "  62560: 2,\n",
       "  62735: 2,\n",
       "  62739: 2,\n",
       "  62746: 2,\n",
       "  62765: 2,\n",
       "  62769: 2,\n",
       "  62784: 2,\n",
       "  62814: 2,\n",
       "  62896: 2,\n",
       "  63119: 2,\n",
       "  63136: 2,\n",
       "  63169: 2,\n",
       "  63265: 2,\n",
       "  63280: 2,\n",
       "  63286: 2,\n",
       "  63447: 2,\n",
       "  63554: 2,\n",
       "  63576: 3,\n",
       "  63601: 2,\n",
       "  63618: 2,\n",
       "  63619: 2,\n",
       "  63755: 2,\n",
       "  63757: 2,\n",
       "  63897: 2,\n",
       "  64004: 2,\n",
       "  64076: 2,\n",
       "  64116: 2,\n",
       "  64141: 2,\n",
       "  64361: 2,\n",
       "  64379: 2,\n",
       "  64416: 2,\n",
       "  64492: 2,\n",
       "  64502: 2,\n",
       "  64549: 2,\n",
       "  64814: 2,\n",
       "  64933: 2,\n",
       "  65026: 2,\n",
       "  65115: 2,\n",
       "  65238: 2,\n",
       "  65267: 2,\n",
       "  65283: 2,\n",
       "  65348: 2,\n",
       "  65549: 2,\n",
       "  65554: 2,\n",
       "  65561: 2,\n",
       "  65582: 2,\n",
       "  65649: 2,\n",
       "  65672: 2,\n",
       "  65679: 2,\n",
       "  65791: 2,\n",
       "  65795: 3,\n",
       "  65820: 2,\n",
       "  65893: 2,\n",
       "  66255: 2,\n",
       "  66259: 2,\n",
       "  66297: 2,\n",
       "  66300: 2,\n",
       "  66328: 2,\n",
       "  66363: 2,\n",
       "  66384: 2,\n",
       "  66406: 2,\n",
       "  66475: 2,\n",
       "  66592: 2,\n",
       "  66612: 2,\n",
       "  66637: 2,\n",
       "  66656: 2,\n",
       "  66685: 2,\n",
       "  66737: 2,\n",
       "  66808: 2,\n",
       "  66811: 2,\n",
       "  66894: 2,\n",
       "  66900: 2,\n",
       "  66934: 2,\n",
       "  66961: 2,\n",
       "  67043: 2,\n",
       "  67093: 2,\n",
       "  67187: 2,\n",
       "  67262: 2,\n",
       "  67303: 2,\n",
       "  67565: 2,\n",
       "  67602: 2,\n",
       "  67612: 2,\n",
       "  67676: 2,\n",
       "  67840: 2,\n",
       "  67869: 2,\n",
       "  67871: 2,\n",
       "  67982: 2,\n",
       "  68018: 2,\n",
       "  68104: 2,\n",
       "  68173: 2,\n",
       "  68189: 2,\n",
       "  68258: 2,\n",
       "  68269: 2,\n",
       "  68278: 2,\n",
       "  68283: 2,\n",
       "  68294: 2,\n",
       "  68352: 2,\n",
       "  68421: 2,\n",
       "  68422: 2,\n",
       "  68428: 2,\n",
       "  68430: 2,\n",
       "  68451: 2,\n",
       "  68483: 2,\n",
       "  68500: 2,\n",
       "  68511: 2,\n",
       "  68540: 2,\n",
       "  68544: 2,\n",
       "  68608: 2,\n",
       "  68692: 2,\n",
       "  68699: 2,\n",
       "  68701: 2,\n",
       "  68763: 2,\n",
       "  68831: 2,\n",
       "  68860: 2,\n",
       "  68872: 2,\n",
       "  68894: 2,\n",
       "  68895: 2,\n",
       "  68944: 2,\n",
       "  68955: 2,\n",
       "  69026: 2,\n",
       "  69041: 2,\n",
       "  69044: 3,\n",
       "  69045: 3,\n",
       "  69048: 2,\n",
       "  69069: 2,\n",
       "  69115: 2,\n",
       "  69181: 2,\n",
       "  69205: 2,\n",
       "  69207: 2,\n",
       "  69214: 2,\n",
       "  69237: 2,\n",
       "  69249: 2,\n",
       "  69253: 3,\n",
       "  69282: 2,\n",
       "  69291: 2,\n",
       "  69324: 2,\n",
       "  69350: 3,\n",
       "  69351: 2,\n",
       "  69419: 2,\n",
       "  69466: 2,\n",
       "  69475: 2,\n",
       "  69501: 2,\n",
       "  69520: 2,\n",
       "  69627: 2,\n",
       "  69666: 2,\n",
       "  69694: 2,\n",
       "  69706: 2,\n",
       "  69707: 2,\n",
       "  69750: 2,\n",
       "  69762: 2,\n",
       "  69813: 2,\n",
       "  69849: 2,\n",
       "  69884: 3,\n",
       "  69909: 2,\n",
       "  69984: 2,\n",
       "  70017: 2,\n",
       "  70064: 2,\n",
       "  70071: 2,\n",
       "  70182: 2,\n",
       "  70216: 2,\n",
       "  70425: 2,\n",
       "  70494: 2,\n",
       "  70516: 2,\n",
       "  70547: 2,\n",
       "  70562: 2,\n",
       "  70687: 2,\n",
       "  70713: 2,\n",
       "  70717: 2,\n",
       "  70723: 2,\n",
       "  70758: 2,\n",
       "  70778: 2,\n",
       "  70961: 2,\n",
       "  70983: 2,\n",
       "  70993: 2,\n",
       "  70996: 2,\n",
       "  71008: 2,\n",
       "  71065: 2,\n",
       "  71154: 2,\n",
       "  71286: 2,\n",
       "  71327: 2,\n",
       "  71380: 2,\n",
       "  71416: 2,\n",
       "  71443: 2,\n",
       "  71760: 2,\n",
       "  71909: 2,\n",
       "  71980: 2,\n",
       "  71997: 2,\n",
       "  72020: 2,\n",
       "  72025: 2,\n",
       "  72049: 2,\n",
       "  72107: 2,\n",
       "  72120: 2,\n",
       "  72153: 2,\n",
       "  72159: 2,\n",
       "  72164: 2,\n",
       "  73940: 2,\n",
       "  73955: 2,\n",
       "  73963: 2,\n",
       "  74027: 2,\n",
       "  74039: 2,\n",
       "  74084: 2,\n",
       "  74133: 2,\n",
       "  74149: 2,\n",
       "  74202: 2,\n",
       "  74283: 2,\n",
       "  74312: 2,\n",
       "  74326: 2,\n",
       "  74336: 2,\n",
       "  74358: 2,\n",
       "  74399: 2,\n",
       "  74429: 2,\n",
       "  74563: 2,\n",
       "  74671: 2,\n",
       "  74710: 2,\n",
       "  74712: 2,\n",
       "  74760: 3,\n",
       "  74761: 2,\n",
       "  74800: 2,\n",
       "  75055: 3,\n",
       "  75123: 2,\n",
       "  75187: 2,\n",
       "  75235: 2,\n",
       "  75258: 2,\n",
       "  75259: 2,\n",
       "  75429: 2,\n",
       "  75465: 3,\n",
       "  75526: 2,\n",
       "  75613: 2,\n",
       "  75637: 2,\n",
       "  75701: 2,\n",
       "  75836: 2,\n",
       "  75841: 2,\n",
       "  75881: 2,\n",
       "  76033: 2,\n",
       "  76035: 2,\n",
       "  76117: 2,\n",
       "  76220: 2,\n",
       "  76223: 3,\n",
       "  76233: 3,\n",
       "  76294: 2,\n",
       "  76353: 2,\n",
       "  76355: 3,\n",
       "  76374: 2,\n",
       "  76437: 2,\n",
       "  76441: 3,\n",
       "  76545: 2,\n",
       "  76547: 2,\n",
       "  76615: 2,\n",
       "  76638: 2,\n",
       "  76676: 2,\n",
       "  76799: 2,\n",
       "  76817: 2,\n",
       "  76902: 2,\n",
       "  76906: 2,\n",
       "  76957: 2,\n",
       "  76958: 2,\n",
       "  77004: 2,\n",
       "  77031: 2,\n",
       "  77168: 2,\n",
       "  77169: 2,\n",
       "  77432: 2,\n",
       "  77520: 2,\n",
       "  77528: 2,\n",
       "  77543: 2,\n",
       "  77558: 2,\n",
       "  77564: 2,\n",
       "  77581: 2,\n",
       "  77667: 2,\n",
       "  77738: 2,\n",
       "  77772: 2,\n",
       "  77789: 2,\n",
       "  77858: 2,\n",
       "  78063: 2,\n",
       "  78075: 2,\n",
       "  78184: 2,\n",
       "  78220: 2,\n",
       "  78289: 2,\n",
       "  78366: 2,\n",
       "  78368: 3,\n",
       "  78370: 2,\n",
       "  78371: 2,\n",
       "  78372: 3,\n",
       "  78374: 3,\n",
       "  78390: 2,\n",
       "  78452: 2,\n",
       "  78472: 2,\n",
       "  78528: 2,\n",
       "  78545: 2,\n",
       "  78555: 2,\n",
       "  78653: 2,\n",
       "  78656: 3,\n",
       "  78662: 2,\n",
       "  78670: 2,\n",
       "  78705: 2,\n",
       "  78706: 2,\n",
       "  78724: 2,\n",
       "  78742: 2,\n",
       "  78756: 2,\n",
       "  78781: 2,\n",
       "  78844: 2,\n",
       "  78903: 2,\n",
       "  78911: 2,\n",
       "  78963: 2,\n",
       "  78985: 3,\n",
       "  78996: 2,\n",
       "  79000: 3,\n",
       "  79009: 2,\n",
       "  79025: 2,\n",
       "  79050: 2,\n",
       "  79125: 2,\n",
       "  79193: 2,\n",
       "  79198: 2,\n",
       "  79220: 2,\n",
       "  79272: 2,\n",
       "  79296: 2,\n",
       "  79299: 2,\n",
       "  79346: 3,\n",
       "  79366: 3,\n",
       "  79401: 2,\n",
       "  79407: 2,\n",
       "  79414: 2,\n",
       "  79415: 2,\n",
       "  79525: 3,\n",
       "  79564: 2,\n",
       "  79565: 2,\n",
       "  79586: 2,\n",
       "  79587: 2,\n",
       "  79589: 2,\n",
       "  79626: 2,\n",
       "  79632: 2,\n",
       "  79660: 2,\n",
       "  79729: 2,\n",
       "  79756: 2,\n",
       "  79782: 2,\n",
       "  79805: 2,\n",
       "  79858: 3,\n",
       "  79905: 3,\n",
       "  79906: 3,\n",
       "  79961: 2,\n",
       "  80069: 2,\n",
       "  80079: 2,\n",
       "  ...}}"
      ]
     },
     "execution_count": 57,
     "metadata": {},
     "output_type": "execute_result"
    }
   ],
   "source": [
    "#numIns2numIDs \n",
    "\n",
    "fil = ins[ins['year'] == 2016].groupby(\"business_id\").count()\n",
    "fil[fil['score'] != 1][['score']].to_dict()"
   ]
  },
  {
   "cell_type": "markdown",
   "metadata": {
    "deletable": false,
    "editable": false,
    "nbgrader": {
     "cell_type": "markdown",
     "checksum": "cdadfc8df3c120901a4773e8d85587bb",
     "grade": false,
     "grade_id": "do-not-edit-7",
     "locked": true,
     "schema_version": 2,
     "solution": false
    }
   },
   "source": [
    "Do not edit the empty cell below."
   ]
  },
  {
   "cell_type": "code",
   "execution_count": null,
   "metadata": {
    "deletable": false,
    "editable": false,
    "nbgrader": {
     "cell_type": "code",
     "checksum": "bc83d84537fb37e17ccaaee9b86f9490",
     "grade": true,
     "grade_id": "q6c-tests",
     "locked": true,
     "points": 1,
     "schema_version": 2,
     "solution": false
    }
   },
   "outputs": [],
   "source": []
  },
  {
   "cell_type": "markdown",
   "metadata": {
    "deletable": false,
    "editable": false,
    "nbgrader": {
     "cell_type": "markdown",
     "checksum": "a180f82464474e75b149339b3e345521",
     "grade": false,
     "grade_id": "q7",
     "locked": true,
     "schema_version": 2,
     "solution": false
    }
   },
   "source": [
    "### Restaurants with multiple inspections\n",
    "\n",
    "### Question 7\n",
    "\n",
    "Some restaurants had 3 inspections in a calandar year, but not very many did. To examine the distribution of score among restaurants with two scores, we can look at the change in score from the first inspection.\n",
    "\n",
    "#### Question 7a\n",
    "\n",
    "What's the relationship between the first and second scores for the businesses with 2 inspections in a year? Do they typically improve?\n",
    "\n",
    "First, make a dataframe called, `scores_pairs_by_business`, indexed by business_id (containing only business with exactly 2 inspections in 2016).  This dataframe contains the field `score_pair` consisting of the score pairs ordered chronologically  `[first_score, second_score]`. \n",
    "\n",
    "Plot these scores. That is, make a scatter plot to display these pairs of scores. Include on the plot a reference line with slope 1. \n",
    "\n",
    "You may find the functions `sort_values`, `groupby`, `filter` and `agg` helpful, though not all necessary. \n",
    "\n",
    "The first few rows resulting table should look something like:\n",
    "\n",
    "<table border=\"1\" class=\"dataframe\">\n",
    "  <thead>\n",
    "    <tr style=\"text-align: right;\">\n",
    "      <th></th>\n",
    "      <th>score_pair</th>\n",
    "    </tr>\n",
    "    <tr>\n",
    "      <th>business_id</th>\n",
    "      <th></th>\n",
    "    </tr>\n",
    "  </thead>\n",
    "  <tbody>\n",
    "    <tr>\n",
    "      <th>24</th>\n",
    "      <td>[96, 98]</td>\n",
    "    </tr>\n",
    "    <tr>\n",
    "      <th>45</th>\n",
    "      <td>[78, 84]</td>\n",
    "    </tr>\n",
    "    <tr>\n",
    "      <th>66</th>\n",
    "      <td>[98, 100]</td>\n",
    "    </tr>\n",
    "    <tr>\n",
    "      <th>67</th>\n",
    "      <td>[87, 94]</td>\n",
    "    </tr>\n",
    "    <tr>\n",
    "      <th>76</th>\n",
    "      <td>[100, 98]</td>\n",
    "    </tr>\n",
    "  </tbody>\n",
    "</table>"
   ]
  },
  {
   "cell_type": "code",
   "execution_count": 58,
   "metadata": {
    "deletable": false,
    "nbgrader": {
     "cell_type": "code",
     "checksum": "54c41ec9510ff5f1aff31d51275bde29",
     "grade": false,
     "grade_id": "q7a-answer",
     "locked": false,
     "schema_version": 2,
     "solution": true
    },
    "tags": [
     "student"
    ]
   },
   "outputs": [
    {
     "data": {
      "text/html": [
       "<div>\n",
       "<style scoped>\n",
       "    .dataframe tbody tr th:only-of-type {\n",
       "        vertical-align: middle;\n",
       "    }\n",
       "\n",
       "    .dataframe tbody tr th {\n",
       "        vertical-align: top;\n",
       "    }\n",
       "\n",
       "    .dataframe thead th {\n",
       "        text-align: right;\n",
       "    }\n",
       "</style>\n",
       "<table border=\"1\" class=\"dataframe\">\n",
       "  <thead>\n",
       "    <tr style=\"text-align: right;\">\n",
       "      <th></th>\n",
       "      <th>score_pair</th>\n",
       "    </tr>\n",
       "    <tr>\n",
       "      <th>business_id</th>\n",
       "      <th></th>\n",
       "    </tr>\n",
       "  </thead>\n",
       "  <tbody>\n",
       "    <tr>\n",
       "      <th>24</th>\n",
       "      <td>[96, 98]</td>\n",
       "    </tr>\n",
       "    <tr>\n",
       "      <th>45</th>\n",
       "      <td>[78, 84]</td>\n",
       "    </tr>\n",
       "    <tr>\n",
       "      <th>66</th>\n",
       "      <td>[98, 100]</td>\n",
       "    </tr>\n",
       "    <tr>\n",
       "      <th>67</th>\n",
       "      <td>[87, 94]</td>\n",
       "    </tr>\n",
       "    <tr>\n",
       "      <th>76</th>\n",
       "      <td>[100, 98]</td>\n",
       "    </tr>\n",
       "  </tbody>\n",
       "</table>\n",
       "</div>"
      ],
      "text/plain": [
       "            score_pair\n",
       "business_id           \n",
       "24            [96, 98]\n",
       "45            [78, 84]\n",
       "66           [98, 100]\n",
       "67            [87, 94]\n",
       "76           [100, 98]"
      ]
     },
     "execution_count": 58,
     "metadata": {},
     "output_type": "execute_result"
    }
   ],
   "source": [
    "def group_to_list(group):\n",
    "    return list(group)\n",
    "\n",
    "x = ins2016['business_id'].value_counts()\n",
    "new = pd.DataFrame(data = {'business_id': x[x==2].index})\n",
    "scores_pairs_by_business = ins2016[ins2016['business_id'].isin(new['business_id'])].sort_values(['business_id',\\\n",
    "    'new_date']).loc[:,['business_id','score']].groupby('business_id').agg(group_to_list)\n",
    "scores_pairs_by_business.columns = ['score_pair']\n",
    "scores_pairs_by_business.head()\n",
    "\n",
    "# For some odd reason, we can't just pass `list` into `.agg` so we define this function:\n",
    "# You may or may not use it\n"
   ]
  },
  {
   "cell_type": "code",
   "execution_count": 59,
   "metadata": {
    "deletable": false,
    "editable": false,
    "nbgrader": {
     "cell_type": "code",
     "checksum": "ce3b2a8e41d8d1eb9a84988b1fc12571",
     "grade": true,
     "grade_id": "q7a-tests",
     "locked": true,
     "points": 1,
     "schema_version": 2,
     "solution": false
    },
    "tags": [
     "solution"
    ]
   },
   "outputs": [],
   "source": [
    "assert isinstance(scores_pairs_by_business, pd.DataFrame)\n",
    "assert scores_pairs_by_business.columns == ['score_pair']\n"
   ]
  },
  {
   "cell_type": "code",
   "execution_count": 60,
   "metadata": {
    "deletable": false,
    "nbgrader": {
     "cell_type": "code",
     "checksum": "d59098dd35a257a37ba9628cfbe35d03",
     "grade": true,
     "grade_id": "q7a-plot-answer",
     "locked": false,
     "points": 1,
     "schema_version": 2,
     "solution": true
    },
    "tags": [
     "student",
     "written"
    ]
   },
   "outputs": [
    {
     "data": {
      "image/png": "[encoded data removed]",
      "text/plain": [
       "<matplotlib.figure.Figure at 0x1a183b6400>"
      ]
     },
     "metadata": {},
     "output_type": "display_data"
    }
   ],
   "source": [
    "# Create scatter plot here.\n",
    "\n",
    "s = pd.DataFrame(columns = ['col1', 'col2'])\n",
    "s['col1'] = [i[0] for i in scores_pairs_by_business['score_pair']]\n",
    "s['col2'] = [j[1] for j in scores_pairs_by_business['score_pair']]\n",
    "plt.scatter(s['col1'], s['col2']);\n",
    "x = np.linspace(50,100)\n",
    "plt.plot(x, x, '-');\n"
   ]
  },
  {
   "cell_type": "markdown",
   "metadata": {
    "deletable": false,
    "editable": false,
    "nbgrader": {
     "cell_type": "markdown",
     "checksum": "d8df5a23b42aba45f46b9ea73774280d",
     "grade": false,
     "grade_id": "q7b",
     "locked": true,
     "schema_version": 2,
     "solution": false
    }
   },
   "source": [
    "#### Question 7b\n",
    "\n",
    "Another way to compare the scores from the two inspections is to examine the difference in scores. Subtract the first score from the second in `scores_pairs_by_business`. Make a histogram of these differences in the scores. We might expect these differences to be positive, indicating an improvement from the first to the second inspection."
   ]
  },
  {
   "cell_type": "code",
   "execution_count": 61,
   "metadata": {
    "deletable": false,
    "nbgrader": {
     "cell_type": "code",
     "checksum": "04fd5d513edbc5df199e6befadb9e7d1",
     "grade": true,
     "grade_id": "q7b-answer",
     "locked": false,
     "points": 1,
     "schema_version": 2,
     "solution": true
    },
    "tags": [
     "student",
     "written"
    ]
   },
   "outputs": [
    {
     "data": {
      "text/plain": [
       "<matplotlib.axes._subplots.AxesSubplot at 0x1a18471278>"
      ]
     },
     "execution_count": 61,
     "metadata": {},
     "output_type": "execute_result"
    },
    {
     "data": {
      "image/png": "[encoded data removed]",
      "text/plain": [
       "<matplotlib.figure.Figure at 0x1a2159cc88>"
      ]
     },
     "metadata": {},
     "output_type": "display_data"
    }
   ],
   "source": [
    "# Create histogram here\n",
    "def list_minus(table):\n",
    "    i = 0\n",
    "    score = []\n",
    "    while i < len(table):\n",
    "        score += [table.iloc[i][0][1] - table.iloc[i][0][0]]\n",
    "        i += 1\n",
    "    return score\n",
    "\n",
    "diff_score = list_minus(scores_pairs_by_business)\n",
    "scores_pairs_by_business['diff_score'] = diff_score\n",
    "scores_pairs_by_business['diff_score'].plot(kind = \"hist\")"
   ]
  },
  {
   "cell_type": "markdown",
   "metadata": {
    "deletable": false,
    "editable": false,
    "nbgrader": {
     "cell_type": "markdown",
     "checksum": "d838bad4a00853394e5a5fa40b8278cc",
     "grade": false,
     "grade_id": "q7c",
     "locked": true,
     "schema_version": 2,
     "solution": false
    }
   },
   "source": [
    "#### Question 7c\n",
    "\n",
    "If a restaurant's score improves from the first to the second inspection, what do you expect to see in the scatter plot that you made in 7a? What do you see?\n",
    "\n",
    "If a restaurant's score improves from the first to the second inspection, how would this be reflected in the histogram of the difference in the scores that you made in 7b? What do you see?"
   ]
  },
  {
   "cell_type": "code",
   "execution_count": 62,
   "metadata": {
    "deletable": false,
    "nbgrader": {
     "cell_type": "code",
     "checksum": "0f693589c41b3b353b3b693a0a94a60b",
     "grade": true,
     "grade_id": "q7c-answer",
     "locked": false,
     "points": 1,
     "schema_version": 2,
     "solution": true
    },
    "tags": [
     "student",
     "written"
    ]
   },
   "outputs": [
    {
     "name": "stdout",
     "output_type": "stream",
     "text": [
      "\n",
      "\n",
      "Judging from the histogram above, the mode of the population is 0. \n",
      "\n",
      "If a restaurant score really got improved, the scatter plot in 7a would have more points on the upper right side of the plot. \n",
      "\n",
      "The histogram would be largely skewed to the left, since most of the point would be positive.\n",
      "\n",
      "\n"
     ]
    }
   ],
   "source": [
    "q7c_answer = r\"\"\"\n",
    "\n",
    "Judging from the histogram above, the mode of the population is 0. \n",
    "\n",
    "If a restaurant score really got improved, the scatter plot in 7a would have more points on the upper right side of the plot. \n",
    "\n",
    "The histogram would be largely skewed to the left, since most of the point would be positive.\n",
    "\n",
    "\"\"\"\n",
    "\n",
    "\n",
    "\n",
    "print(q7c_answer)"
   ]
  },
  {
   "cell_type": "markdown",
   "metadata": {
    "deletable": false,
    "editable": false,
    "nbgrader": {
     "cell_type": "markdown",
     "checksum": "c482aa43a32d8ad93cc16e80f3ae4d32",
     "grade": false,
     "grade_id": "summary-inspections",
     "locked": true,
     "schema_version": 2,
     "solution": false
    }
   },
   "source": [
    "## Summary of the inspections data\n",
    "\n",
    "What we have learned about the inspections data? What might be some next steps in our investigation? \n",
    "\n",
    "* We found that the records are at the inspection level and that we have inspections for multiple years.   \n",
    "* We also found that may restaurants have more than one inspection a year. In the future, we may want to roll some of the information about the inspections up to the business/restaurant level and join the inspection information with the business dataframe. For example, we could make maps of inspection scores for restaurants.\n",
    "* We also examined the relationship between the scores when a restaurant has multiple inspections in a year. Our findings were a bit counterintuitive and we warrant further investigation. It also makes sense to learn more about the inspection process to help us understand the connections between scores from multiple inspections. \n"
   ]
  },
  {
   "cell_type": "markdown",
   "metadata": {
    "deletable": false,
    "editable": false,
    "nbgrader": {
     "cell_type": "markdown",
     "checksum": "12afe8a2b4668d6f6122c081462dee2a",
     "grade": false,
     "grade_id": "read-only",
     "locked": true,
     "schema_version": 2,
     "solution": false
    }
   },
   "source": [
    "## Congrats !\n",
    "\n",
    "Congrats! You are finished with HW2."
   ]
  }
 ],
 "metadata": {
  "anaconda-cloud": {},
  "kernelspec": {
   "display_name": "Python 3",
   "language": "python",
   "name": "python3"
  },
  "language_info": {
   "codemirror_mode": {
    "name": "ipython",
    "version": 3
   },
   "file_extension": ".py",
   "mimetype": "text/x-python",
   "name": "python",
   "nbconvert_exporter": "python",
   "pygments_lexer": "ipython3",
   "version": "3.6.4"
  }
 },
 "nbformat": 4,
 "nbformat_minor": 2
}
